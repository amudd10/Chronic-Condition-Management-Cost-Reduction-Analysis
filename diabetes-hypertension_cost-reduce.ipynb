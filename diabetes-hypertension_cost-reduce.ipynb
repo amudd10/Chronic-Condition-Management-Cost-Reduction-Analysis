{
 "cells": [
  {
   "cell_type": "code",
   "execution_count": 21,
   "id": "830e5411-6ea5-46b0-ad5c-0adca8631e47",
   "metadata": {},
   "outputs": [],
   "source": [
    "import pandas as pd\n",
    "import datetime as dt\n",
    "import matplotlib.pyplot as plt\n",
    "import plotly.express as px"
   ]
  },
  {
   "cell_type": "code",
   "execution_count": 2,
   "id": "99c9269f-996c-4a7f-b67c-f3a69875afde",
   "metadata": {},
   "outputs": [
    {
     "data": {
      "text/html": [
       "<div>\n",
       "<style scoped>\n",
       "    .dataframe tbody tr th:only-of-type {\n",
       "        vertical-align: middle;\n",
       "    }\n",
       "\n",
       "    .dataframe tbody tr th {\n",
       "        vertical-align: top;\n",
       "    }\n",
       "\n",
       "    .dataframe thead th {\n",
       "        text-align: right;\n",
       "    }\n",
       "</style>\n",
       "<table border=\"1\" class=\"dataframe\">\n",
       "  <thead>\n",
       "    <tr style=\"text-align: right;\">\n",
       "      <th></th>\n",
       "      <th>Rndrng_Prvdr_CCN</th>\n",
       "      <th>Rndrng_Prvdr_Org_Name</th>\n",
       "      <th>Rndrng_Prvdr_St</th>\n",
       "      <th>Rndrng_Prvdr_City</th>\n",
       "      <th>Rndrng_Prvdr_State_Abrvtn</th>\n",
       "      <th>Rndrng_Prvdr_State_FIPS</th>\n",
       "      <th>Rndrng_Prvdr_Zip5</th>\n",
       "      <th>Rndrng_Prvdr_RUCA</th>\n",
       "      <th>Rndrng_Prvdr_RUCA_Desc</th>\n",
       "      <th>DRG_Cd</th>\n",
       "      <th>DRG_Desc</th>\n",
       "      <th>Tot_Dschrgs</th>\n",
       "      <th>Avg_Submtd_Cvrd_Chrg</th>\n",
       "      <th>Avg_Tot_Pymt_Amt</th>\n",
       "      <th>Avg_Mdcr_Pymt_Amt</th>\n",
       "    </tr>\n",
       "  </thead>\n",
       "  <tbody>\n",
       "    <tr>\n",
       "      <th>0</th>\n",
       "      <td>10001</td>\n",
       "      <td>Southeast Health Medical Center</td>\n",
       "      <td>1108 Ross Clark Circle</td>\n",
       "      <td>Dothan</td>\n",
       "      <td>AL</td>\n",
       "      <td>1</td>\n",
       "      <td>36301</td>\n",
       "      <td>1.0</td>\n",
       "      <td>Metropolitan area core: primary flow within an...</td>\n",
       "      <td>23</td>\n",
       "      <td>CRANIOTOMY W MAJOR DEVICE IMPLANT OR ACUTE COM...</td>\n",
       "      <td>51</td>\n",
       "      <td>166625.86275</td>\n",
       "      <td>37033.313725</td>\n",
       "      <td>33908.45098</td>\n",
       "    </tr>\n",
       "    <tr>\n",
       "      <th>1</th>\n",
       "      <td>10001</td>\n",
       "      <td>Southeast Health Medical Center</td>\n",
       "      <td>1108 Ross Clark Circle</td>\n",
       "      <td>Dothan</td>\n",
       "      <td>AL</td>\n",
       "      <td>1</td>\n",
       "      <td>36301</td>\n",
       "      <td>1.0</td>\n",
       "      <td>Metropolitan area core: primary flow within an...</td>\n",
       "      <td>24</td>\n",
       "      <td>CRANIOTOMY WITH MAJOR DEVICE IMPLANT OR ACUTE ...</td>\n",
       "      <td>16</td>\n",
       "      <td>105888.12500</td>\n",
       "      <td>26208.687500</td>\n",
       "      <td>22531.25000</td>\n",
       "    </tr>\n",
       "    <tr>\n",
       "      <th>2</th>\n",
       "      <td>10001</td>\n",
       "      <td>Southeast Health Medical Center</td>\n",
       "      <td>1108 Ross Clark Circle</td>\n",
       "      <td>Dothan</td>\n",
       "      <td>AL</td>\n",
       "      <td>1</td>\n",
       "      <td>36301</td>\n",
       "      <td>1.0</td>\n",
       "      <td>Metropolitan area core: primary flow within an...</td>\n",
       "      <td>25</td>\n",
       "      <td>CRANIOTOMY &amp; ENDOVASCULAR INTRACRANIAL PROCEDU...</td>\n",
       "      <td>30</td>\n",
       "      <td>182686.36667</td>\n",
       "      <td>29491.533333</td>\n",
       "      <td>27775.50000</td>\n",
       "    </tr>\n",
       "  </tbody>\n",
       "</table>\n",
       "</div>"
      ],
      "text/plain": [
       "   Rndrng_Prvdr_CCN            Rndrng_Prvdr_Org_Name         Rndrng_Prvdr_St  \\\n",
       "0             10001  Southeast Health Medical Center  1108 Ross Clark Circle   \n",
       "1             10001  Southeast Health Medical Center  1108 Ross Clark Circle   \n",
       "2             10001  Southeast Health Medical Center  1108 Ross Clark Circle   \n",
       "\n",
       "  Rndrng_Prvdr_City Rndrng_Prvdr_State_Abrvtn  Rndrng_Prvdr_State_FIPS  \\\n",
       "0            Dothan                        AL                        1   \n",
       "1            Dothan                        AL                        1   \n",
       "2            Dothan                        AL                        1   \n",
       "\n",
       "   Rndrng_Prvdr_Zip5  Rndrng_Prvdr_RUCA  \\\n",
       "0              36301                1.0   \n",
       "1              36301                1.0   \n",
       "2              36301                1.0   \n",
       "\n",
       "                              Rndrng_Prvdr_RUCA_Desc  DRG_Cd  \\\n",
       "0  Metropolitan area core: primary flow within an...      23   \n",
       "1  Metropolitan area core: primary flow within an...      24   \n",
       "2  Metropolitan area core: primary flow within an...      25   \n",
       "\n",
       "                                            DRG_Desc  Tot_Dschrgs  \\\n",
       "0  CRANIOTOMY W MAJOR DEVICE IMPLANT OR ACUTE COM...           51   \n",
       "1  CRANIOTOMY WITH MAJOR DEVICE IMPLANT OR ACUTE ...           16   \n",
       "2  CRANIOTOMY & ENDOVASCULAR INTRACRANIAL PROCEDU...           30   \n",
       "\n",
       "   Avg_Submtd_Cvrd_Chrg  Avg_Tot_Pymt_Amt  Avg_Mdcr_Pymt_Amt  \n",
       "0          166625.86275      37033.313725        33908.45098  \n",
       "1          105888.12500      26208.687500        22531.25000  \n",
       "2          182686.36667      29491.533333        27775.50000  "
      ]
     },
     "execution_count": 2,
     "metadata": {},
     "output_type": "execute_result"
    }
   ],
   "source": [
    "file_path = \"Resources/MUP_IHP_RY22_P02_V10_DY20_PrvSvc.csv\"\n",
    "df = pd.read_csv(file_path, encoding='ISO-8859-1')\n",
    "df.head(3)"
   ]
  },
  {
   "cell_type": "code",
   "execution_count": 3,
   "id": "8d5b4728-dc13-4149-9119-59c68c765688",
   "metadata": {},
   "outputs": [
    {
     "data": {
      "text/plain": [
       "Index(['Rndrng_Prvdr_CCN', 'Rndrng_Prvdr_Org_Name', 'Rndrng_Prvdr_St',\n",
       "       'Rndrng_Prvdr_City', 'Rndrng_Prvdr_State_Abrvtn',\n",
       "       'Rndrng_Prvdr_State_FIPS', 'Rndrng_Prvdr_Zip5', 'Rndrng_Prvdr_RUCA',\n",
       "       'Rndrng_Prvdr_RUCA_Desc', 'DRG_Cd', 'DRG_Desc', 'Tot_Dschrgs',\n",
       "       'Avg_Submtd_Cvrd_Chrg', 'Avg_Tot_Pymt_Amt', 'Avg_Mdcr_Pymt_Amt'],\n",
       "      dtype='object')"
      ]
     },
     "execution_count": 3,
     "metadata": {},
     "output_type": "execute_result"
    }
   ],
   "source": [
    "df.columns"
   ]
  },
  {
   "cell_type": "code",
   "execution_count": 4,
   "id": "0687adbf-56db-4337-830d-9b7a708b4144",
   "metadata": {},
   "outputs": [
    {
     "data": {
      "text/plain": [
       "Rndrng_Prvdr_CCN             0\n",
       "Rndrng_Prvdr_Org_Name        0\n",
       "Rndrng_Prvdr_St              0\n",
       "Rndrng_Prvdr_City            0\n",
       "Rndrng_Prvdr_State_Abrvtn    0\n",
       "Rndrng_Prvdr_State_FIPS      0\n",
       "Rndrng_Prvdr_Zip5            0\n",
       "Rndrng_Prvdr_RUCA            0\n",
       "Rndrng_Prvdr_RUCA_Desc       0\n",
       "DRG_Cd                       0\n",
       "DRG_Desc                     0\n",
       "Tot_Dschrgs                  0\n",
       "Avg_Submtd_Cvrd_Chrg         0\n",
       "Avg_Tot_Pymt_Amt             0\n",
       "Avg_Mdcr_Pymt_Amt            0\n",
       "dtype: int64"
      ]
     },
     "execution_count": 4,
     "metadata": {},
     "output_type": "execute_result"
    }
   ],
   "source": [
    "df.isna().sum()"
   ]
  },
  {
   "cell_type": "code",
   "execution_count": 5,
   "id": "f7b68d45-d943-4afb-879e-09c8c5d0b0ce",
   "metadata": {},
   "outputs": [
    {
     "data": {
      "text/html": [
       "<div>\n",
       "<style scoped>\n",
       "    .dataframe tbody tr th:only-of-type {\n",
       "        vertical-align: middle;\n",
       "    }\n",
       "\n",
       "    .dataframe tbody tr th {\n",
       "        vertical-align: top;\n",
       "    }\n",
       "\n",
       "    .dataframe thead th {\n",
       "        text-align: right;\n",
       "    }\n",
       "</style>\n",
       "<table border=\"1\" class=\"dataframe\">\n",
       "  <thead>\n",
       "    <tr style=\"text-align: right;\">\n",
       "      <th></th>\n",
       "      <th>Rndrng_Prvdr_CCN</th>\n",
       "      <th>Rndrng_Prvdr_Org_Name</th>\n",
       "      <th>Rndrng_Prvdr_St</th>\n",
       "      <th>Rndrng_Prvdr_City</th>\n",
       "      <th>Rndrng_Prvdr_State_Abrvtn</th>\n",
       "      <th>Rndrng_Prvdr_State_FIPS</th>\n",
       "      <th>Rndrng_Prvdr_Zip5</th>\n",
       "      <th>Rndrng_Prvdr_RUCA</th>\n",
       "      <th>Rndrng_Prvdr_RUCA_Desc</th>\n",
       "      <th>DRG_Cd</th>\n",
       "      <th>DRG_Desc</th>\n",
       "      <th>Tot_Dschrgs</th>\n",
       "      <th>Avg_Submtd_Cvrd_Chrg</th>\n",
       "      <th>Avg_Tot_Pymt_Amt</th>\n",
       "      <th>Avg_Mdcr_Pymt_Amt</th>\n",
       "    </tr>\n",
       "  </thead>\n",
       "  <tbody>\n",
       "    <tr>\n",
       "      <th>0</th>\n",
       "      <td>10001</td>\n",
       "      <td>Southeast Health Medical Center</td>\n",
       "      <td>1108 Ross Clark Circle</td>\n",
       "      <td>Dothan</td>\n",
       "      <td>AL</td>\n",
       "      <td>1</td>\n",
       "      <td>36301</td>\n",
       "      <td>1.0</td>\n",
       "      <td>Metropolitan area core: primary flow within an...</td>\n",
       "      <td>305</td>\n",
       "      <td>hypertension without mcc</td>\n",
       "      <td>23</td>\n",
       "      <td>15539.434783</td>\n",
       "      <td>5363.739130</td>\n",
       "      <td>4062.652174</td>\n",
       "    </tr>\n",
       "    <tr>\n",
       "      <th>1</th>\n",
       "      <td>10001</td>\n",
       "      <td>Southeast Health Medical Center</td>\n",
       "      <td>1108 Ross Clark Circle</td>\n",
       "      <td>Dothan</td>\n",
       "      <td>AL</td>\n",
       "      <td>1</td>\n",
       "      <td>36301</td>\n",
       "      <td>1.0</td>\n",
       "      <td>Metropolitan area core: primary flow within an...</td>\n",
       "      <td>637</td>\n",
       "      <td>diabetes w mcc</td>\n",
       "      <td>37</td>\n",
       "      <td>25173.486486</td>\n",
       "      <td>9273.864865</td>\n",
       "      <td>8247.189189</td>\n",
       "    </tr>\n",
       "    <tr>\n",
       "      <th>2</th>\n",
       "      <td>10001</td>\n",
       "      <td>Southeast Health Medical Center</td>\n",
       "      <td>1108 Ross Clark Circle</td>\n",
       "      <td>Dothan</td>\n",
       "      <td>AL</td>\n",
       "      <td>1</td>\n",
       "      <td>36301</td>\n",
       "      <td>1.0</td>\n",
       "      <td>Metropolitan area core: primary flow within an...</td>\n",
       "      <td>638</td>\n",
       "      <td>diabetes with cc</td>\n",
       "      <td>21</td>\n",
       "      <td>16428.095238</td>\n",
       "      <td>6059.142857</td>\n",
       "      <td>5114.714286</td>\n",
       "    </tr>\n",
       "    <tr>\n",
       "      <th>3</th>\n",
       "      <td>10005</td>\n",
       "      <td>Marshall Medical Centers South Campus</td>\n",
       "      <td>2505 U S Highway 431 North</td>\n",
       "      <td>Boaz</td>\n",
       "      <td>AL</td>\n",
       "      <td>1</td>\n",
       "      <td>35957</td>\n",
       "      <td>4.0</td>\n",
       "      <td>Micropolitan area core: primary flow within an...</td>\n",
       "      <td>638</td>\n",
       "      <td>diabetes with cc</td>\n",
       "      <td>15</td>\n",
       "      <td>14451.866667</td>\n",
       "      <td>6283.866667</td>\n",
       "      <td>4723.666667</td>\n",
       "    </tr>\n",
       "    <tr>\n",
       "      <th>4</th>\n",
       "      <td>10005</td>\n",
       "      <td>Marshall Medical Centers South Campus</td>\n",
       "      <td>2505 U S Highway 431 North</td>\n",
       "      <td>Boaz</td>\n",
       "      <td>AL</td>\n",
       "      <td>1</td>\n",
       "      <td>35957</td>\n",
       "      <td>4.0</td>\n",
       "      <td>Micropolitan area core: primary flow within an...</td>\n",
       "      <td>639</td>\n",
       "      <td>diabetes w/o cc/mcc</td>\n",
       "      <td>11</td>\n",
       "      <td>6403.636364</td>\n",
       "      <td>4408.727273</td>\n",
       "      <td>3091.181818</td>\n",
       "    </tr>\n",
       "  </tbody>\n",
       "</table>\n",
       "</div>"
      ],
      "text/plain": [
       "   Rndrng_Prvdr_CCN                  Rndrng_Prvdr_Org_Name  \\\n",
       "0             10001        Southeast Health Medical Center   \n",
       "1             10001        Southeast Health Medical Center   \n",
       "2             10001        Southeast Health Medical Center   \n",
       "3             10005  Marshall Medical Centers South Campus   \n",
       "4             10005  Marshall Medical Centers South Campus   \n",
       "\n",
       "              Rndrng_Prvdr_St Rndrng_Prvdr_City Rndrng_Prvdr_State_Abrvtn  \\\n",
       "0      1108 Ross Clark Circle            Dothan                        AL   \n",
       "1      1108 Ross Clark Circle            Dothan                        AL   \n",
       "2      1108 Ross Clark Circle            Dothan                        AL   \n",
       "3  2505 U S Highway 431 North              Boaz                        AL   \n",
       "4  2505 U S Highway 431 North              Boaz                        AL   \n",
       "\n",
       "   Rndrng_Prvdr_State_FIPS  Rndrng_Prvdr_Zip5  Rndrng_Prvdr_RUCA  \\\n",
       "0                        1              36301                1.0   \n",
       "1                        1              36301                1.0   \n",
       "2                        1              36301                1.0   \n",
       "3                        1              35957                4.0   \n",
       "4                        1              35957                4.0   \n",
       "\n",
       "                              Rndrng_Prvdr_RUCA_Desc  DRG_Cd  \\\n",
       "0  Metropolitan area core: primary flow within an...     305   \n",
       "1  Metropolitan area core: primary flow within an...     637   \n",
       "2  Metropolitan area core: primary flow within an...     638   \n",
       "3  Micropolitan area core: primary flow within an...     638   \n",
       "4  Micropolitan area core: primary flow within an...     639   \n",
       "\n",
       "                   DRG_Desc  Tot_Dschrgs  Avg_Submtd_Cvrd_Chrg  \\\n",
       "0  hypertension without mcc           23          15539.434783   \n",
       "1            diabetes w mcc           37          25173.486486   \n",
       "2          diabetes with cc           21          16428.095238   \n",
       "3          diabetes with cc           15          14451.866667   \n",
       "4       diabetes w/o cc/mcc           11           6403.636364   \n",
       "\n",
       "   Avg_Tot_Pymt_Amt  Avg_Mdcr_Pymt_Amt  \n",
       "0       5363.739130        4062.652174  \n",
       "1       9273.864865        8247.189189  \n",
       "2       6059.142857        5114.714286  \n",
       "3       6283.866667        4723.666667  \n",
       "4       4408.727273        3091.181818  "
      ]
     },
     "execution_count": 5,
     "metadata": {},
     "output_type": "execute_result"
    }
   ],
   "source": [
    "# Convert DRG descriptions to lowercase for more accurate keyword matching\n",
    "df['DRG_Desc'] = df['DRG_Desc'].str.lower()\n",
    "\n",
    "# Filter the DataFrame to include rows with the keywords \"diabetes\" or \"hypertension\" in the DRG description\n",
    "diabetes_hypertension_df = df[df['DRG_Desc'].str.contains(\"diabetes|hypertension\")]\n",
    "\n",
    "# Reset the index of the new DataFrame\n",
    "diabetes_hypertension_df.reset_index(drop=True, inplace=True)\n",
    "diabetes_hypertension_df.head()"
   ]
  },
  {
   "cell_type": "code",
   "execution_count": 6,
   "id": "5d2409f1-7a46-4ba5-b494-9eb48ba599d4",
   "metadata": {},
   "outputs": [
    {
     "data": {
      "text/html": [
       "<div>\n",
       "<style scoped>\n",
       "    .dataframe tbody tr th:only-of-type {\n",
       "        vertical-align: middle;\n",
       "    }\n",
       "\n",
       "    .dataframe tbody tr th {\n",
       "        vertical-align: top;\n",
       "    }\n",
       "\n",
       "    .dataframe thead th {\n",
       "        text-align: right;\n",
       "    }\n",
       "</style>\n",
       "<table border=\"1\" class=\"dataframe\">\n",
       "  <thead>\n",
       "    <tr style=\"text-align: right;\">\n",
       "      <th></th>\n",
       "      <th>Tot_Dschrgs</th>\n",
       "      <th>Avg_Submtd_Cvrd_Chrg</th>\n",
       "      <th>Avg_Tot_Pymt_Amt</th>\n",
       "      <th>Avg_Mdcr_Pymt_Amt</th>\n",
       "    </tr>\n",
       "  </thead>\n",
       "  <tbody>\n",
       "    <tr>\n",
       "      <th>count</th>\n",
       "      <td>3971.000000</td>\n",
       "      <td>3971.000000</td>\n",
       "      <td>3971.000000</td>\n",
       "      <td>3971.000000</td>\n",
       "    </tr>\n",
       "    <tr>\n",
       "      <th>mean</th>\n",
       "      <td>22.237220</td>\n",
       "      <td>38731.230872</td>\n",
       "      <td>8861.533618</td>\n",
       "      <td>7135.205130</td>\n",
       "    </tr>\n",
       "    <tr>\n",
       "      <th>std</th>\n",
       "      <td>12.845061</td>\n",
       "      <td>24248.979515</td>\n",
       "      <td>4499.218469</td>\n",
       "      <td>4174.127938</td>\n",
       "    </tr>\n",
       "    <tr>\n",
       "      <th>min</th>\n",
       "      <td>11.000000</td>\n",
       "      <td>6403.636364</td>\n",
       "      <td>3958.950000</td>\n",
       "      <td>2232.500000</td>\n",
       "    </tr>\n",
       "    <tr>\n",
       "      <th>25%</th>\n",
       "      <td>14.000000</td>\n",
       "      <td>22342.738095</td>\n",
       "      <td>6341.913044</td>\n",
       "      <td>4808.358333</td>\n",
       "    </tr>\n",
       "    <tr>\n",
       "      <th>50%</th>\n",
       "      <td>18.000000</td>\n",
       "      <td>32503.277778</td>\n",
       "      <td>7946.086957</td>\n",
       "      <td>6319.933333</td>\n",
       "    </tr>\n",
       "    <tr>\n",
       "      <th>75%</th>\n",
       "      <td>26.000000</td>\n",
       "      <td>47987.735104</td>\n",
       "      <td>10204.874686</td>\n",
       "      <td>8463.134680</td>\n",
       "    </tr>\n",
       "    <tr>\n",
       "      <th>max</th>\n",
       "      <td>222.000000</td>\n",
       "      <td>256981.652170</td>\n",
       "      <td>123303.666670</td>\n",
       "      <td>119767.750000</td>\n",
       "    </tr>\n",
       "  </tbody>\n",
       "</table>\n",
       "</div>"
      ],
      "text/plain": [
       "       Tot_Dschrgs  Avg_Submtd_Cvrd_Chrg  Avg_Tot_Pymt_Amt  Avg_Mdcr_Pymt_Amt\n",
       "count  3971.000000           3971.000000       3971.000000        3971.000000\n",
       "mean     22.237220          38731.230872       8861.533618        7135.205130\n",
       "std      12.845061          24248.979515       4499.218469        4174.127938\n",
       "min      11.000000           6403.636364       3958.950000        2232.500000\n",
       "25%      14.000000          22342.738095       6341.913044        4808.358333\n",
       "50%      18.000000          32503.277778       7946.086957        6319.933333\n",
       "75%      26.000000          47987.735104      10204.874686        8463.134680\n",
       "max     222.000000         256981.652170     123303.666670      119767.750000"
      ]
     },
     "execution_count": 6,
     "metadata": {},
     "output_type": "execute_result"
    }
   ],
   "source": [
    "summary_stats = diabetes_hypertension_df[['Tot_Dschrgs','Avg_Submtd_Cvrd_Chrg', 'Avg_Tot_Pymt_Amt', 'Avg_Mdcr_Pymt_Amt']].describe()\n",
    "summary_stats"
   ]
  },
  {
   "cell_type": "code",
   "execution_count": 7,
   "id": "0f62f66c-f4b7-4fb5-9357-4a4678d8e246",
   "metadata": {},
   "outputs": [
    {
     "data": {
      "text/html": [
       "<div>\n",
       "<style scoped>\n",
       "    .dataframe tbody tr th:only-of-type {\n",
       "        vertical-align: middle;\n",
       "    }\n",
       "\n",
       "    .dataframe tbody tr th {\n",
       "        vertical-align: top;\n",
       "    }\n",
       "\n",
       "    .dataframe thead tr th {\n",
       "        text-align: left;\n",
       "    }\n",
       "\n",
       "    .dataframe thead tr:last-of-type th {\n",
       "        text-align: right;\n",
       "    }\n",
       "</style>\n",
       "<table border=\"1\" class=\"dataframe\">\n",
       "  <thead>\n",
       "    <tr>\n",
       "      <th></th>\n",
       "      <th colspan=\"2\" halign=\"left\">Tot_Dschrgs</th>\n",
       "      <th colspan=\"2\" halign=\"left\">Avg_Submtd_Cvrd_Chrg</th>\n",
       "      <th colspan=\"2\" halign=\"left\">Avg_Tot_Pymt_Amt</th>\n",
       "      <th colspan=\"2\" halign=\"left\">Avg_Mdcr_Pymt_Amt</th>\n",
       "    </tr>\n",
       "    <tr>\n",
       "      <th></th>\n",
       "      <th>sum</th>\n",
       "      <th>mean</th>\n",
       "      <th>sum</th>\n",
       "      <th>mean</th>\n",
       "      <th>sum</th>\n",
       "      <th>mean</th>\n",
       "      <th>sum</th>\n",
       "      <th>mean</th>\n",
       "    </tr>\n",
       "    <tr>\n",
       "      <th>DRG_Desc</th>\n",
       "      <th></th>\n",
       "      <th></th>\n",
       "      <th></th>\n",
       "      <th></th>\n",
       "      <th></th>\n",
       "      <th></th>\n",
       "      <th></th>\n",
       "      <th></th>\n",
       "    </tr>\n",
       "  </thead>\n",
       "  <tbody>\n",
       "    <tr>\n",
       "      <th>diabetes w mcc</th>\n",
       "      <td>25872</td>\n",
       "      <td>21.814503</td>\n",
       "      <td>6.097199e+07</td>\n",
       "      <td>51409.771211</td>\n",
       "      <td>1.392630e+07</td>\n",
       "      <td>11742.241133</td>\n",
       "      <td>1.171234e+07</td>\n",
       "      <td>9875.497829</td>\n",
       "    </tr>\n",
       "    <tr>\n",
       "      <th>diabetes w/o cc/mcc</th>\n",
       "      <td>613</td>\n",
       "      <td>14.595238</td>\n",
       "      <td>9.411021e+05</td>\n",
       "      <td>22407.193366</td>\n",
       "      <td>2.416454e+05</td>\n",
       "      <td>5753.460762</td>\n",
       "      <td>1.687025e+05</td>\n",
       "      <td>4016.726010</td>\n",
       "    </tr>\n",
       "    <tr>\n",
       "      <th>diabetes with cc</th>\n",
       "      <td>37711</td>\n",
       "      <td>24.503574</td>\n",
       "      <td>4.986537e+07</td>\n",
       "      <td>32401.152066</td>\n",
       "      <td>1.209186e+07</td>\n",
       "      <td>7856.956487</td>\n",
       "      <td>9.524259e+06</td>\n",
       "      <td>6188.602516</td>\n",
       "    </tr>\n",
       "    <tr>\n",
       "      <th>hypertension w mcc</th>\n",
       "      <td>7392</td>\n",
       "      <td>18.251852</td>\n",
       "      <td>1.729944e+07</td>\n",
       "      <td>42714.666748</td>\n",
       "      <td>3.898639e+06</td>\n",
       "      <td>9626.267946</td>\n",
       "      <td>3.226658e+06</td>\n",
       "      <td>7967.057449</td>\n",
       "    </tr>\n",
       "    <tr>\n",
       "      <th>hypertension without mcc</th>\n",
       "      <td>16716</td>\n",
       "      <td>20.921151</td>\n",
       "      <td>2.472381e+07</td>\n",
       "      <td>30943.446748</td>\n",
       "      <td>5.030712e+06</td>\n",
       "      <td>6296.260464</td>\n",
       "      <td>3.701939e+06</td>\n",
       "      <td>4633.215413</td>\n",
       "    </tr>\n",
       "  </tbody>\n",
       "</table>\n",
       "</div>"
      ],
      "text/plain": [
       "                         Tot_Dschrgs            Avg_Submtd_Cvrd_Chrg  \\\n",
       "                                 sum       mean                  sum   \n",
       "DRG_Desc                                                               \n",
       "diabetes w mcc                 25872  21.814503         6.097199e+07   \n",
       "diabetes w/o cc/mcc              613  14.595238         9.411021e+05   \n",
       "diabetes with cc               37711  24.503574         4.986537e+07   \n",
       "hypertension w mcc              7392  18.251852         1.729944e+07   \n",
       "hypertension without mcc       16716  20.921151         2.472381e+07   \n",
       "\n",
       "                                       Avg_Tot_Pymt_Amt                \\\n",
       "                                  mean              sum          mean   \n",
       "DRG_Desc                                                                \n",
       "diabetes w mcc            51409.771211     1.392630e+07  11742.241133   \n",
       "diabetes w/o cc/mcc       22407.193366     2.416454e+05   5753.460762   \n",
       "diabetes with cc          32401.152066     1.209186e+07   7856.956487   \n",
       "hypertension w mcc        42714.666748     3.898639e+06   9626.267946   \n",
       "hypertension without mcc  30943.446748     5.030712e+06   6296.260464   \n",
       "\n",
       "                         Avg_Mdcr_Pymt_Amt               \n",
       "                                       sum         mean  \n",
       "DRG_Desc                                                 \n",
       "diabetes w mcc                1.171234e+07  9875.497829  \n",
       "diabetes w/o cc/mcc           1.687025e+05  4016.726010  \n",
       "diabetes with cc              9.524259e+06  6188.602516  \n",
       "hypertension w mcc            3.226658e+06  7967.057449  \n",
       "hypertension without mcc      3.701939e+06  4633.215413  "
      ]
     },
     "execution_count": 7,
     "metadata": {},
     "output_type": "execute_result"
    }
   ],
   "source": [
    "drg_summary = diabetes_hypertension_df.groupby('DRG_Desc')[['Tot_Dschrgs','Avg_Submtd_Cvrd_Chrg', 'Avg_Tot_Pymt_Amt', 'Avg_Mdcr_Pymt_Amt']].agg(['sum', 'mean'])\n",
    "drg_summary"
   ]
  },
  {
   "cell_type": "code",
   "execution_count": 8,
   "id": "89d6945d-351d-408a-8c8b-52b21d6c5975",
   "metadata": {},
   "outputs": [
    {
     "name": "stdout",
     "output_type": "stream",
     "text": [
      "1. hypertension without mcc\n",
      "2. diabetes w mcc\n",
      "3. diabetes with cc\n",
      "4. diabetes w/o cc/mcc\n",
      "5. hypertension w mcc\n"
     ]
    }
   ],
   "source": [
    "drg_desc_list = diabetes_hypertension_df['DRG_Desc'].unique().tolist()\n",
    "\n",
    "for i, drg_desc in enumerate(drg_desc_list, 1):\n",
    "    print(f\"{i}. {drg_desc}\")"
   ]
  },
  {
   "cell_type": "markdown",
   "id": "3a92dab6-e038-47bc-965f-bc4a81d6f934",
   "metadata": {},
   "source": [
    "1. hyptertension without mcc: [I10.9] without major complication or comorbidity\n",
    "2. diabetes with mcc: [E11.65 or E10.65] a) type2 diabetes with hyperglycemia b) type1 diabetes with hyperglycemia, both with major complication or   comoborbidity\n",
    "3. diabetes with cc: [E11.65 or E10.65] a) type2 diabetes with hyperglycemia b) type1 diabetes with hyperglycemia, both with complication or   comoborbidity\n",
    "4. hyptertension with mcc: [I10.9] with major complication or comorbidity"
   ]
  },
  {
   "cell_type": "code",
   "execution_count": 9,
   "id": "43d09369-c820-45bb-8921-c950b78e3218",
   "metadata": {},
   "outputs": [
    {
     "data": {
      "image/png": "[encoded data removed]",
      "text/plain": [
       "<Figure size 720x432 with 1 Axes>"
      ]
     },
     "metadata": {
      "needs_background": "light"
     },
     "output_type": "display_data"
    }
   ],
   "source": [
    "drg_total_discharges = diabetes_hypertension_df.groupby('DRG_Desc')['Tot_Dschrgs'].sum().sort_values(ascending = False)\n",
    "\n",
    "plt.figure(figsize = (10,6))\n",
    "drg_total_discharges.plot(kind='bar')\n",
    "plt.title('Total Discharges by DRG description')\n",
    "plt.xlabel('DRG description')\n",
    "plt.ylabel('Total Discharges')\n",
    "plt.show()"
   ]
  },
  {
   "cell_type": "markdown",
   "id": "684a3454-a256-4379-9fc9-ffabbdf602f4",
   "metadata": {},
   "source": [
    "#### Investigating relationship between variables"
   ]
  },
  {
   "cell_type": "code",
   "execution_count": 10,
   "id": "dc8d132b-b286-412d-8213-3d3e34410275",
   "metadata": {},
   "outputs": [
    {
     "data": {
      "image/png": "[encoded data removed]",
      "text/plain": [
       "<Figure size 720x432 with 1 Axes>"
      ]
     },
     "metadata": {
      "needs_background": "light"
     },
     "output_type": "display_data"
    },
    {
     "name": "stdout",
     "output_type": "stream",
     "text": [
      "Correlation coefficient: 0.3015363561623917\n"
     ]
    }
   ],
   "source": [
    "#Avg_Submtd_Cvrd_Chrg vs Avg_Mdcr_Pymt_Amt\n",
    "plt.figure(figsize =(10,6))\n",
    "\n",
    "plt.scatter(diabetes_hypertension_df['Avg_Submtd_Cvrd_Chrg'], diabetes_hypertension_df['Avg_Mdcr_Pymt_Amt'])\n",
    "plt.title('Average Submitted Covered Charge vs. Average Medicare Payment Amount')\n",
    "plt.xlabel('Average Submitted Covered Charge')\n",
    "plt.ylabel('Average Medicare Payment Amount')\n",
    "plt.show()\n",
    "\n",
    "corr_coeff = diabetes_hypertension_df['Avg_Submtd_Cvrd_Chrg'].corr(diabetes_hypertension_df['Avg_Mdcr_Pymt_Amt'])\n",
    "print(f'Correlation coefficient: {corr_coeff}')"
   ]
  },
  {
   "cell_type": "markdown",
   "id": "a63e1e96-710b-4715-b115-051fb3bedb1e",
   "metadata": {},
   "source": [
    "This correlation coefficent indicates a weak positive relationship between Average Submitted Covered Charge and Average Medicare Payment Amount.\n",
    "- As one one variable increases, the other variable increases tends to increase as well, but the relationship is weak"
   ]
  },
  {
   "cell_type": "code",
   "execution_count": 11,
   "id": "4066d9c4-b76a-4c3a-a5b1-76ea216edfe6",
   "metadata": {},
   "outputs": [
    {
     "name": "stderr",
     "output_type": "stream",
     "text": [
      "C:\\Users\\amudd\\anaconda3\\lib\\site-packages\\numpy\\lib\\function_base.py:2683: RuntimeWarning: Degrees of freedom <= 0 for slice\n",
      "  c = cov(x, y, rowvar, dtype=dtype)\n",
      "C:\\Users\\amudd\\anaconda3\\lib\\site-packages\\numpy\\lib\\function_base.py:2542: RuntimeWarning: divide by zero encountered in true_divide\n",
      "  c *= np.true_divide(1, fact)\n"
     ]
    },
    {
     "data": {
      "text/html": [
       "<div>\n",
       "<style scoped>\n",
       "    .dataframe tbody tr th:only-of-type {\n",
       "        vertical-align: middle;\n",
       "    }\n",
       "\n",
       "    .dataframe tbody tr th {\n",
       "        vertical-align: top;\n",
       "    }\n",
       "\n",
       "    .dataframe thead th {\n",
       "        text-align: right;\n",
       "    }\n",
       "</style>\n",
       "<table border=\"1\" class=\"dataframe\">\n",
       "  <thead>\n",
       "    <tr style=\"text-align: right;\">\n",
       "      <th></th>\n",
       "      <th>Correlation Coefficient</th>\n",
       "    </tr>\n",
       "  </thead>\n",
       "  <tbody>\n",
       "    <tr>\n",
       "      <th>Abbott Northwestern Hospital</th>\n",
       "      <td>1.0</td>\n",
       "    </tr>\n",
       "    <tr>\n",
       "      <th>Morton Hospital</th>\n",
       "      <td>1.0</td>\n",
       "    </tr>\n",
       "    <tr>\n",
       "      <th>Colleton Medical Center</th>\n",
       "      <td>1.0</td>\n",
       "    </tr>\n",
       "    <tr>\n",
       "      <th>Metrohealth System</th>\n",
       "      <td>1.0</td>\n",
       "    </tr>\n",
       "    <tr>\n",
       "      <th>Mh St Elizabeth Boardman Hospital</th>\n",
       "      <td>1.0</td>\n",
       "    </tr>\n",
       "    <tr>\n",
       "      <th>...</th>\n",
       "      <td>...</td>\n",
       "    </tr>\n",
       "    <tr>\n",
       "      <th>Whitesburg Arh Hospital</th>\n",
       "      <td>NaN</td>\n",
       "    </tr>\n",
       "    <tr>\n",
       "      <th>Williamson Medical Center</th>\n",
       "      <td>NaN</td>\n",
       "    </tr>\n",
       "    <tr>\n",
       "      <th>Windham Comm Mem Hosp &amp; Hatch Hosp</th>\n",
       "      <td>NaN</td>\n",
       "    </tr>\n",
       "    <tr>\n",
       "      <th>Wise Regional Health System</th>\n",
       "      <td>NaN</td>\n",
       "    </tr>\n",
       "    <tr>\n",
       "      <th>Yavapai Regional Medical Center</th>\n",
       "      <td>NaN</td>\n",
       "    </tr>\n",
       "  </tbody>\n",
       "</table>\n",
       "<p>1658 rows × 1 columns</p>\n",
       "</div>"
      ],
      "text/plain": [
       "                                    Correlation Coefficient\n",
       "Abbott Northwestern Hospital                            1.0\n",
       "Morton Hospital                                         1.0\n",
       "Colleton Medical Center                                 1.0\n",
       "Metrohealth System                                      1.0\n",
       "Mh St Elizabeth Boardman Hospital                       1.0\n",
       "...                                                     ...\n",
       "Whitesburg Arh Hospital                                 NaN\n",
       "Williamson Medical Center                               NaN\n",
       "Windham Comm Mem Hosp & Hatch Hosp                      NaN\n",
       "Wise Regional Health System                             NaN\n",
       "Yavapai Regional Medical Center                         NaN\n",
       "\n",
       "[1658 rows x 1 columns]"
      ]
     },
     "execution_count": 11,
     "metadata": {},
     "output_type": "execute_result"
    }
   ],
   "source": [
    "# Group the data by Rndrng_Prvdr_Org_Name\n",
    "org_group = diabetes_hypertension_df.groupby('Rndrng_Prvdr_Org_Name')\n",
    "\n",
    "# Initialize an empty dictionary to store the correlation coefficients\n",
    "correlation_coefficients = {}\n",
    "\n",
    "# Iterate through the grouped data and calculate the correlation coefficient for each group\n",
    "for provider_name, org_group in org_group:\n",
    "    corr_coeff = org_group['Avg_Submtd_Cvrd_Chrg'].corr(org_group['Avg_Mdcr_Pymt_Amt'])\n",
    "    correlation_coefficients[provider_name] = corr_coeff\n",
    "\n",
    "# Convert the dictionary to a pandas DataFrame and sort by correlation coefficient\n",
    "correlation_df = pd.DataFrame.from_dict(correlation_coefficients, orient='index', columns=['Correlation Coefficient'])\n",
    "correlation_df = correlation_df.sort_values(by='Correlation Coefficient', ascending=False)\n",
    "\n",
    "# Display the DataFrame\n",
    "pd.set_option('display.max_columns', None)\n",
    "correlation_df"
   ]
  },
  {
   "cell_type": "code",
   "execution_count": 12,
   "id": "f862ae48-104d-4ae1-aa32-90da6f59b3e2",
   "metadata": {},
   "outputs": [
    {
     "data": {
      "text/html": [
       "<div>\n",
       "<style scoped>\n",
       "    .dataframe tbody tr th:only-of-type {\n",
       "        vertical-align: middle;\n",
       "    }\n",
       "\n",
       "    .dataframe tbody tr th {\n",
       "        vertical-align: top;\n",
       "    }\n",
       "\n",
       "    .dataframe thead th {\n",
       "        text-align: right;\n",
       "    }\n",
       "</style>\n",
       "<table border=\"1\" class=\"dataframe\">\n",
       "  <thead>\n",
       "    <tr style=\"text-align: right;\">\n",
       "      <th></th>\n",
       "      <th>Correlation Coefficient</th>\n",
       "    </tr>\n",
       "  </thead>\n",
       "  <tbody>\n",
       "    <tr>\n",
       "      <th>Mercy Hospital Oklahoma City, Inc</th>\n",
       "      <td>1.0</td>\n",
       "    </tr>\n",
       "    <tr>\n",
       "      <th>Wellstar Spalding Regional Hospital</th>\n",
       "      <td>1.0</td>\n",
       "    </tr>\n",
       "    <tr>\n",
       "      <th>Houston Methodist West Hospital</th>\n",
       "      <td>1.0</td>\n",
       "    </tr>\n",
       "    <tr>\n",
       "      <th>Portsmouth Regional Hospital</th>\n",
       "      <td>1.0</td>\n",
       "    </tr>\n",
       "    <tr>\n",
       "      <th>St Vincent's Birmingham</th>\n",
       "      <td>1.0</td>\n",
       "    </tr>\n",
       "    <tr>\n",
       "      <th>...</th>\n",
       "      <td>...</td>\n",
       "    </tr>\n",
       "    <tr>\n",
       "      <th>Whitesburg Arh Hospital</th>\n",
       "      <td>NaN</td>\n",
       "    </tr>\n",
       "    <tr>\n",
       "      <th>Williamson Medical Center</th>\n",
       "      <td>NaN</td>\n",
       "    </tr>\n",
       "    <tr>\n",
       "      <th>Windham Comm Mem Hosp &amp; Hatch Hosp</th>\n",
       "      <td>NaN</td>\n",
       "    </tr>\n",
       "    <tr>\n",
       "      <th>Wise Regional Health System</th>\n",
       "      <td>NaN</td>\n",
       "    </tr>\n",
       "    <tr>\n",
       "      <th>Yavapai Regional Medical Center</th>\n",
       "      <td>NaN</td>\n",
       "    </tr>\n",
       "  </tbody>\n",
       "</table>\n",
       "<p>1338 rows × 1 columns</p>\n",
       "</div>"
      ],
      "text/plain": [
       "                                     Correlation Coefficient\n",
       "Mercy Hospital Oklahoma City, Inc                        1.0\n",
       "Wellstar Spalding Regional Hospital                      1.0\n",
       "Houston Methodist West Hospital                          1.0\n",
       "Portsmouth Regional Hospital                             1.0\n",
       "St Vincent's Birmingham                                  1.0\n",
       "...                                                      ...\n",
       "Whitesburg Arh Hospital                                  NaN\n",
       "Williamson Medical Center                                NaN\n",
       "Windham Comm Mem Hosp & Hatch Hosp                       NaN\n",
       "Wise Regional Health System                              NaN\n",
       "Yavapai Regional Medical Center                          NaN\n",
       "\n",
       "[1338 rows x 1 columns]"
      ]
     },
     "execution_count": 12,
     "metadata": {},
     "output_type": "execute_result"
    }
   ],
   "source": [
    "filtered_correlation_df = correlation_df[correlation_df['Correlation Coefficient'] != 1.0]\n",
    "# Display the filtered DataFrame\n",
    "filtered_correlation_df"
   ]
  },
  {
   "cell_type": "code",
   "execution_count": 13,
   "id": "d772d51a-8731-4371-a779-6a1260f57437",
   "metadata": {},
   "outputs": [
    {
     "data": {
      "text/html": [
       "<div>\n",
       "<style scoped>\n",
       "    .dataframe tbody tr th:only-of-type {\n",
       "        vertical-align: middle;\n",
       "    }\n",
       "\n",
       "    .dataframe tbody tr th {\n",
       "        vertical-align: top;\n",
       "    }\n",
       "\n",
       "    .dataframe thead th {\n",
       "        text-align: right;\n",
       "    }\n",
       "</style>\n",
       "<table border=\"1\" class=\"dataframe\">\n",
       "  <thead>\n",
       "    <tr style=\"text-align: right;\">\n",
       "      <th></th>\n",
       "      <th>Correlation Coefficient</th>\n",
       "    </tr>\n",
       "  </thead>\n",
       "  <tbody>\n",
       "    <tr>\n",
       "      <th>Mercy Hospital Oklahoma City, Inc</th>\n",
       "      <td>1.0</td>\n",
       "    </tr>\n",
       "    <tr>\n",
       "      <th>Wellstar Spalding Regional Hospital</th>\n",
       "      <td>1.0</td>\n",
       "    </tr>\n",
       "    <tr>\n",
       "      <th>Houston Methodist West Hospital</th>\n",
       "      <td>1.0</td>\n",
       "    </tr>\n",
       "    <tr>\n",
       "      <th>Portsmouth Regional Hospital</th>\n",
       "      <td>1.0</td>\n",
       "    </tr>\n",
       "    <tr>\n",
       "      <th>St Vincent's Birmingham</th>\n",
       "      <td>1.0</td>\n",
       "    </tr>\n",
       "    <tr>\n",
       "      <th>...</th>\n",
       "      <td>...</td>\n",
       "    </tr>\n",
       "    <tr>\n",
       "      <th>Vaughan Regional Medical Center Parkway Campus</th>\n",
       "      <td>-1.0</td>\n",
       "    </tr>\n",
       "    <tr>\n",
       "      <th>Essentia Health Fargo</th>\n",
       "      <td>-1.0</td>\n",
       "    </tr>\n",
       "    <tr>\n",
       "      <th>Grandview Hospital &amp; Medical Center</th>\n",
       "      <td>-1.0</td>\n",
       "    </tr>\n",
       "    <tr>\n",
       "      <th>Mercy Gilbert Medical Center</th>\n",
       "      <td>-1.0</td>\n",
       "    </tr>\n",
       "    <tr>\n",
       "      <th>Belton Regional Medical Center</th>\n",
       "      <td>-1.0</td>\n",
       "    </tr>\n",
       "  </tbody>\n",
       "</table>\n",
       "<p>860 rows × 1 columns</p>\n",
       "</div>"
      ],
      "text/plain": [
       "                                                Correlation Coefficient\n",
       "Mercy Hospital Oklahoma City, Inc                                   1.0\n",
       "Wellstar Spalding Regional Hospital                                 1.0\n",
       "Houston Methodist West Hospital                                     1.0\n",
       "Portsmouth Regional Hospital                                        1.0\n",
       "St Vincent's Birmingham                                             1.0\n",
       "...                                                                 ...\n",
       "Vaughan Regional Medical Center Parkway Campus                     -1.0\n",
       "Essentia Health Fargo                                              -1.0\n",
       "Grandview Hospital & Medical Center                                -1.0\n",
       "Mercy Gilbert Medical Center                                       -1.0\n",
       "Belton Regional Medical Center                                     -1.0\n",
       "\n",
       "[860 rows x 1 columns]"
      ]
     },
     "execution_count": 13,
     "metadata": {},
     "output_type": "execute_result"
    }
   ],
   "source": [
    "filtered_correlation_df = filtered_correlation_df.dropna()\n",
    "filtered_correlation_df"
   ]
  },
  {
   "cell_type": "code",
   "execution_count": 14,
   "id": "53a3d937-e123-410b-8563-11507647fa67",
   "metadata": {},
   "outputs": [
    {
     "data": {
      "image/png": "[encoded data removed]",
      "text/plain": [
       "<Figure size 432x288 with 1 Axes>"
      ]
     },
     "metadata": {
      "needs_background": "light"
     },
     "output_type": "display_data"
    }
   ],
   "source": [
    "filtered_correlation_df.plot(kind='hist', bins=20)\n",
    "plt.xlabel('Correlation Coefficient')\n",
    "plt.ylabel('Frequency')\n",
    "plt.title('Histogram of Correlation Coefficients')\n",
    "plt.show()"
   ]
  },
  {
   "cell_type": "code",
   "execution_count": 15,
   "id": "c7936137-81f4-4ca4-b86b-fb4c49f365e7",
   "metadata": {},
   "outputs": [],
   "source": [
    "# Strongest positive correlations\n",
    "strongest_positive = filtered_correlation_df.sort_values(by='Correlation Coefficient', ascending=False).head(10)\n",
    "\n",
    "# Strongest negative correlations\n",
    "strongest_negative = filtered_correlation_df.sort_values(by='Correlation Coefficient', ascending=True).head(10)\n",
    "\n",
    "# Weakest correlations (closest to 0)\n",
    "weakest_correlations = filtered_correlation_df.loc[filtered_correlation_df['Correlation Coefficient'].abs().nsmallest(10).index]"
   ]
  },
  {
   "cell_type": "code",
   "execution_count": 16,
   "id": "dadbd078-e6c9-4236-99bc-73a735ab9802",
   "metadata": {},
   "outputs": [
    {
     "name": "stdout",
     "output_type": "stream",
     "text": [
      "                                    Correlation Coefficient\n",
      "Mercy Hospital Oklahoma City, Inc                       1.0\n",
      "Wayne Memorial Hospital                                 1.0\n",
      "Santa Clara Valley Medical Center                       1.0\n",
      "Wadley Regional Medical Center                          1.0\n",
      "St Luke's Hospital - Monroe Campus                      1.0\n",
      "Inspira Medical Center Elmer                            1.0\n",
      "Southwest General Health Center                         1.0\n",
      "Inova Loudoun Hospital                                  1.0\n",
      "Waterbury Hospital                                      1.0\n",
      "St Marys Medical Center                                 1.0\n",
      "                                           Correlation Coefficient\n",
      "Belton Regional Medical Center                                -1.0\n",
      "Falmouth Hospital                                             -1.0\n",
      "Memorial Health University Medical Center                     -1.0\n",
      "Adventhealth Palm Coast                                       -1.0\n",
      "Baptist Health Corbin                                         -1.0\n",
      "Paoli Hospital                                                -1.0\n",
      "Los Alamitos Medical Center                                   -1.0\n",
      "Greenwood Leflore Hospital                                    -1.0\n",
      "Tri-City Medical Center                                       -1.0\n",
      "Healthalliance Hospital Broadway Campus                       -1.0\n",
      "                                                 Correlation Coefficient\n",
      "Holy Cross Hospital                                            -0.005995\n",
      "Grady Memorial Hospital                                         0.047176\n",
      "Physicians Regional Medical Center - Pine Ridge                -0.049576\n",
      "Community Hospital North                                       -0.063747\n",
      "Harper University Hospital                                      0.078243\n",
      "Swedish Medical Center                                          0.096360\n",
      "Methodist Dallas Medical Center                                 0.097378\n",
      "University Of Iowa Hospital & Clinics                           0.124840\n",
      "Riverside Medical Center                                       -0.171032\n",
      "Doctors Hospital                                               -0.183386\n"
     ]
    }
   ],
   "source": [
    "print (strongest_positive)\n",
    "print (strongest_negative)\n",
    "print(weakest_correlations)"
   ]
  },
  {
   "cell_type": "markdown",
   "id": "c6aabbb8-5c7c-4747-9dd6-3dd393d38590",
   "metadata": {},
   "source": [
    "#### Multivariate Analysis "
   ]
  },
  {
   "cell_type": "code",
   "execution_count": 17,
   "id": "0e88b129-a162-4a04-8c4a-67783d2d2665",
   "metadata": {},
   "outputs": [],
   "source": [
    "from sklearn.preprocessing import OneHotEncoder, StandardScaler\n",
    "from sklearn.compose import ColumnTransformer\n",
    "\n",
    "# Select relevant columns\n",
    "data_multivariate = diabetes_hypertension_df[['Rndrng_Prvdr_RUCA', 'DRG_Cd', 'Tot_Dschrgs', 'Avg_Mdcr_Pymt_Amt']]\n",
    "\n",
    "# Define column transformer for preprocessing\n",
    "preprocessor = ColumnTransformer(\n",
    "    transformers=[\n",
    "        ('num', StandardScaler(), ['Tot_Dschrgs']),\n",
    "        ('cat', OneHotEncoder(), ['Rndrng_Prvdr_RUCA', 'DRG_Cd'])\n",
    "    ])\n",
    "\n",
    "# Preprocess the data\n",
    "X = data_multivariate.drop('Avg_Mdcr_Pymt_Amt', axis=1)\n",
    "y = data_multivariate['Avg_Mdcr_Pymt_Amt']\n",
    "X_preprocessed = preprocessor.fit_transform(X)"
   ]
  },
  {
   "cell_type": "code",
   "execution_count": 18,
   "id": "179e7ff1-2bc7-41eb-9056-855abcadbe3d",
   "metadata": {},
   "outputs": [
    {
     "name": "stdout",
     "output_type": "stream",
     "text": [
      "Mean Squared Error: 7590007.6225194605\n",
      "R-squared: 0.3318499372990438\n"
     ]
    }
   ],
   "source": [
    "from sklearn.linear_model import LinearRegression\n",
    "from sklearn.model_selection import train_test_split\n",
    "from sklearn.metrics import mean_squared_error, r2_score\n",
    "\n",
    "# Split the data into training and testing sets\n",
    "X_train, X_test, y_train, y_test = train_test_split(X_preprocessed, y, test_size=0.2, random_state=42)\n",
    "\n",
    "# Fit the linear regression model\n",
    "model = LinearRegression()\n",
    "model.fit(X_train, y_train)\n",
    "\n",
    "# Make predictions and evaluate the model\n",
    "y_pred = model.predict(X_test)\n",
    "mse = mean_squared_error(y_test, y_pred)\n",
    "r2 = r2_score(y_test, y_pred)\n",
    "\n",
    "print(f'Mean Squared Error: {mse}')\n",
    "print(f'R-squared: {r2}')"
   ]
  },
  {
   "cell_type": "markdown",
   "id": "896f9d99-eac8-49ab-a96c-efd982e996ca",
   "metadata": {},
   "source": [
    "#### Geographical Analysis"
   ]
  },
  {
   "cell_type": "code",
   "execution_count": 19,
   "id": "ffa3a713-0b45-450d-a8dd-07086c055a9d",
   "metadata": {},
   "outputs": [],
   "source": [
    "# Aggregate data by state\n",
    "state_data = diabetes_hypertension_df.groupby('Rndrng_Prvdr_State_Abrvtn')[['Avg_Submtd_Cvrd_Chrg', 'Avg_Mdcr_Pymt_Amt']].mean().reset_index()"
   ]
  },
  {
   "cell_type": "code",
   "execution_count": 20,
   "id": "3e63176f-6148-4f7c-b504-e58a21a81872",
   "metadata": {},
   "outputs": [
    {
     "name": "stdout",
     "output_type": "stream",
     "text": [
      "Requirement already satisfied: plotly in c:\\users\\amudd\\anaconda3\\lib\\site-packages (5.6.0)\n",
      "Requirement already satisfied: tenacity>=6.2.0 in c:\\users\\amudd\\anaconda3\\lib\\site-packages (from plotly) (8.0.1)\n",
      "Requirement already satisfied: six in c:\\users\\amudd\\anaconda3\\lib\\site-packages (from plotly) (1.16.0)\n",
      "Note: you may need to restart the kernel to use updated packages.\n"
     ]
    }
   ],
   "source": [
    "# pip install plotly"
   ]
  },
  {
   "cell_type": "code",
   "execution_count": 24,
   "id": "a9bf91d8-ebce-4ed7-b966-5b26355794f3",
   "metadata": {},
   "outputs": [
    {
     "data": {
      "application/vnd.plotly.v1+json": {
       "config": {
        "plotlyServerURL": "https://plot.ly"
       },
       "data": [
        {
         "coloraxis": "coloraxis",
         "geo": "geo",
         "hovertemplate": "Rndrng_Prvdr_State_Abrvtn=%{location}<br>Avg_Submtd_Cvrd_Chrg=%{z}<extra></extra>",
         "locationmode": "USA-states",
         "locations": [
          "AK",
          "AL",
          "AR",
          "AZ",
          "CA",
          "CO",
          "CT",
          "DC",
          "DE",
          "FL",
          "GA",
          "HI",
          "IA",
          "ID",
          "IL",
          "IN",
          "KS",
          "KY",
          "LA",
          "MA",
          "MD",
          "ME",
          "MI",
          "MN",
          "MO",
          "MS",
          "MT",
          "NC",
          "ND",
          "NE",
          "NH",
          "NJ",
          "NM",
          "NV",
          "NY",
          "OH",
          "OK",
          "OR",
          "PA",
          "RI",
          "SC",
          "SD",
          "TN",
          "TX",
          "UT",
          "VA",
          "VT",
          "WA",
          "WI",
          "WV",
          "WY"
         ],
         "name": "",
         "type": "choropleth",
         "z": [
          58094.46176225,
          32680.07214592174,
          26382.82629921887,
          45376.68128156896,
          67159.51834831183,
          63173.535773761905,
          31147.07760028889,
          55362.058504333334,
          26555.449584117647,
          48294.79832251534,
          36278.29320496774,
          38491.294279333335,
          25980.611401000002,
          32975.45168955556,
          32903.06831986339,
          31079.161005391303,
          39147.36991348649,
          29136.028126114285,
          28195.342715866664,
          20483.393668165518,
          14942.437602386315,
          25066.918906,
          25213.579450125002,
          26501.551313214288,
          34664.55665372165,
          32746.251273379312,
          23294.383867,
          25940.910136324506,
          18392.242562636362,
          27372.81333392,
          26936.58859885714,
          64161.94832749624,
          33736.8131888125,
          70490.05870852174,
          43309.54382361702,
          29382.55391725,
          39172.60333582,
          34449.04696819048,
          41679.03939146369,
          27677.894124416664,
          34557.058782,
          33606.38662663637,
          31797.674481444446,
          47051.92414976393,
          25460.41363,
          30901.16375356,
          25650.3825105,
          41108.155832883334,
          28998.473024653063,
          23938.989281631577,
          26906.1652046
         ]
        }
       ],
       "layout": {
        "autosize": true,
        "coloraxis": {
         "colorbar": {
          "title": {
           "text": "Avg_Submtd_Cvrd_Chrg"
          }
         },
         "colorscale": [
          [
           0,
           "#440154"
          ],
          [
           0.1111111111111111,
           "#482878"
          ],
          [
           0.2222222222222222,
           "#3e4989"
          ],
          [
           0.3333333333333333,
           "#31688e"
          ],
          [
           0.4444444444444444,
           "#26828e"
          ],
          [
           0.5555555555555556,
           "#1f9e89"
          ],
          [
           0.6666666666666666,
           "#35b779"
          ],
          [
           0.7777777777777778,
           "#6ece58"
          ],
          [
           0.8888888888888888,
           "#b5de2b"
          ],
          [
           1,
           "#fde725"
          ]
         ]
        },
        "geo": {
         "center": {},
         "domain": {
          "x": [
           0,
           1
          ],
          "y": [
           0,
           1
          ]
         },
         "scope": "usa"
        },
        "legend": {
         "tracegroupgap": 0
        },
        "template": {
         "data": {
          "bar": [
           {
            "error_x": {
             "color": "#2a3f5f"
            },
            "error_y": {
             "color": "#2a3f5f"
            },
            "marker": {
             "line": {
              "color": "#E5ECF6",
              "width": 0.5
             },
             "pattern": {
              "fillmode": "overlay",
              "size": 10,
              "solidity": 0.2
             }
            },
            "type": "bar"
           }
          ],
          "barpolar": [
           {
            "marker": {
             "line": {
              "color": "#E5ECF6",
              "width": 0.5
             },
             "pattern": {
              "fillmode": "overlay",
              "size": 10,
              "solidity": 0.2
             }
            },
            "type": "barpolar"
           }
          ],
          "carpet": [
           {
            "aaxis": {
             "endlinecolor": "#2a3f5f",
             "gridcolor": "white",
             "linecolor": "white",
             "minorgridcolor": "white",
             "startlinecolor": "#2a3f5f"
            },
            "baxis": {
             "endlinecolor": "#2a3f5f",
             "gridcolor": "white",
             "linecolor": "white",
             "minorgridcolor": "white",
             "startlinecolor": "#2a3f5f"
            },
            "type": "carpet"
           }
          ],
          "choropleth": [
           {
            "colorbar": {
             "outlinewidth": 0,
             "ticks": ""
            },
            "type": "choropleth"
           }
          ],
          "contour": [
           {
            "colorbar": {
             "outlinewidth": 0,
             "ticks": ""
            },
            "colorscale": [
             [
              0,
              "#0d0887"
             ],
             [
              0.1111111111111111,
              "#46039f"
             ],
             [
              0.2222222222222222,
              "#7201a8"
             ],
             [
              0.3333333333333333,
              "#9c179e"
             ],
             [
              0.4444444444444444,
              "#bd3786"
             ],
             [
              0.5555555555555556,
              "#d8576b"
             ],
             [
              0.6666666666666666,
              "#ed7953"
             ],
             [
              0.7777777777777778,
              "#fb9f3a"
             ],
             [
              0.8888888888888888,
              "#fdca26"
             ],
             [
              1,
              "#f0f921"
             ]
            ],
            "type": "contour"
           }
          ],
          "contourcarpet": [
           {
            "colorbar": {
             "outlinewidth": 0,
             "ticks": ""
            },
            "type": "contourcarpet"
           }
          ],
          "heatmap": [
           {
            "colorbar": {
             "outlinewidth": 0,
             "ticks": ""
            },
            "colorscale": [
             [
              0,
              "#0d0887"
             ],
             [
              0.1111111111111111,
              "#46039f"
             ],
             [
              0.2222222222222222,
              "#7201a8"
             ],
             [
              0.3333333333333333,
              "#9c179e"
             ],
             [
              0.4444444444444444,
              "#bd3786"
             ],
             [
              0.5555555555555556,
              "#d8576b"
             ],
             [
              0.6666666666666666,
              "#ed7953"
             ],
             [
              0.7777777777777778,
              "#fb9f3a"
             ],
             [
              0.8888888888888888,
              "#fdca26"
             ],
             [
              1,
              "#f0f921"
             ]
            ],
            "type": "heatmap"
           }
          ],
          "heatmapgl": [
           {
            "colorbar": {
             "outlinewidth": 0,
             "ticks": ""
            },
            "colorscale": [
             [
              0,
              "#0d0887"
             ],
             [
              0.1111111111111111,
              "#46039f"
             ],
             [
              0.2222222222222222,
              "#7201a8"
             ],
             [
              0.3333333333333333,
              "#9c179e"
             ],
             [
              0.4444444444444444,
              "#bd3786"
             ],
             [
              0.5555555555555556,
              "#d8576b"
             ],
             [
              0.6666666666666666,
              "#ed7953"
             ],
             [
              0.7777777777777778,
              "#fb9f3a"
             ],
             [
              0.8888888888888888,
              "#fdca26"
             ],
             [
              1,
              "#f0f921"
             ]
            ],
            "type": "heatmapgl"
           }
          ],
          "histogram": [
           {
            "marker": {
             "pattern": {
              "fillmode": "overlay",
              "size": 10,
              "solidity": 0.2
             }
            },
            "type": "histogram"
           }
          ],
          "histogram2d": [
           {
            "colorbar": {
             "outlinewidth": 0,
             "ticks": ""
            },
            "colorscale": [
             [
              0,
              "#0d0887"
             ],
             [
              0.1111111111111111,
              "#46039f"
             ],
             [
              0.2222222222222222,
              "#7201a8"
             ],
             [
              0.3333333333333333,
              "#9c179e"
             ],
             [
              0.4444444444444444,
              "#bd3786"
             ],
             [
              0.5555555555555556,
              "#d8576b"
             ],
             [
              0.6666666666666666,
              "#ed7953"
             ],
             [
              0.7777777777777778,
              "#fb9f3a"
             ],
             [
              0.8888888888888888,
              "#fdca26"
             ],
             [
              1,
              "#f0f921"
             ]
            ],
            "type": "histogram2d"
           }
          ],
          "histogram2dcontour": [
           {
            "colorbar": {
             "outlinewidth": 0,
             "ticks": ""
            },
            "colorscale": [
             [
              0,
              "#0d0887"
             ],
             [
              0.1111111111111111,
              "#46039f"
             ],
             [
              0.2222222222222222,
              "#7201a8"
             ],
             [
              0.3333333333333333,
              "#9c179e"
             ],
             [
              0.4444444444444444,
              "#bd3786"
             ],
             [
              0.5555555555555556,
              "#d8576b"
             ],
             [
              0.6666666666666666,
              "#ed7953"
             ],
             [
              0.7777777777777778,
              "#fb9f3a"
             ],
             [
              0.8888888888888888,
              "#fdca26"
             ],
             [
              1,
              "#f0f921"
             ]
            ],
            "type": "histogram2dcontour"
           }
          ],
          "mesh3d": [
           {
            "colorbar": {
             "outlinewidth": 0,
             "ticks": ""
            },
            "type": "mesh3d"
           }
          ],
          "parcoords": [
           {
            "line": {
             "colorbar": {
              "outlinewidth": 0,
              "ticks": ""
             }
            },
            "type": "parcoords"
           }
          ],
          "pie": [
           {
            "automargin": true,
            "type": "pie"
           }
          ],
          "scatter": [
           {
            "marker": {
             "colorbar": {
              "outlinewidth": 0,
              "ticks": ""
             }
            },
            "type": "scatter"
           }
          ],
          "scatter3d": [
           {
            "line": {
             "colorbar": {
              "outlinewidth": 0,
              "ticks": ""
             }
            },
            "marker": {
             "colorbar": {
              "outlinewidth": 0,
              "ticks": ""
             }
            },
            "type": "scatter3d"
           }
          ],
          "scattercarpet": [
           {
            "marker": {
             "colorbar": {
              "outlinewidth": 0,
              "ticks": ""
             }
            },
            "type": "scattercarpet"
           }
          ],
          "scattergeo": [
           {
            "marker": {
             "colorbar": {
              "outlinewidth": 0,
              "ticks": ""
             }
            },
            "type": "scattergeo"
           }
          ],
          "scattergl": [
           {
            "marker": {
             "colorbar": {
              "outlinewidth": 0,
              "ticks": ""
             }
            },
            "type": "scattergl"
           }
          ],
          "scattermapbox": [
           {
            "marker": {
             "colorbar": {
              "outlinewidth": 0,
              "ticks": ""
             }
            },
            "type": "scattermapbox"
           }
          ],
          "scatterpolar": [
           {
            "marker": {
             "colorbar": {
              "outlinewidth": 0,
              "ticks": ""
             }
            },
            "type": "scatterpolar"
           }
          ],
          "scatterpolargl": [
           {
            "marker": {
             "colorbar": {
              "outlinewidth": 0,
              "ticks": ""
             }
            },
            "type": "scatterpolargl"
           }
          ],
          "scatterternary": [
           {
            "marker": {
             "colorbar": {
              "outlinewidth": 0,
              "ticks": ""
             }
            },
            "type": "scatterternary"
           }
          ],
          "surface": [
           {
            "colorbar": {
             "outlinewidth": 0,
             "ticks": ""
            },
            "colorscale": [
             [
              0,
              "#0d0887"
             ],
             [
              0.1111111111111111,
              "#46039f"
             ],
             [
              0.2222222222222222,
              "#7201a8"
             ],
             [
              0.3333333333333333,
              "#9c179e"
             ],
             [
              0.4444444444444444,
              "#bd3786"
             ],
             [
              0.5555555555555556,
              "#d8576b"
             ],
             [
              0.6666666666666666,
              "#ed7953"
             ],
             [
              0.7777777777777778,
              "#fb9f3a"
             ],
             [
              0.8888888888888888,
              "#fdca26"
             ],
             [
              1,
              "#f0f921"
             ]
            ],
            "type": "surface"
           }
          ],
          "table": [
           {
            "cells": {
             "fill": {
              "color": "#EBF0F8"
             },
             "line": {
              "color": "white"
             }
            },
            "header": {
             "fill": {
              "color": "#C8D4E3"
             },
             "line": {
              "color": "white"
             }
            },
            "type": "table"
           }
          ]
         },
         "layout": {
          "annotationdefaults": {
           "arrowcolor": "#2a3f5f",
           "arrowhead": 0,
           "arrowwidth": 1
          },
          "autotypenumbers": "strict",
          "coloraxis": {
           "colorbar": {
            "outlinewidth": 0,
            "ticks": ""
           }
          },
          "colorscale": {
           "diverging": [
            [
             0,
             "#8e0152"
            ],
            [
             0.1,
             "#c51b7d"
            ],
            [
             0.2,
             "#de77ae"
            ],
            [
             0.3,
             "#f1b6da"
            ],
            [
             0.4,
             "#fde0ef"
            ],
            [
             0.5,
             "#f7f7f7"
            ],
            [
             0.6,
             "#e6f5d0"
            ],
            [
             0.7,
             "#b8e186"
            ],
            [
             0.8,
             "#7fbc41"
            ],
            [
             0.9,
             "#4d9221"
            ],
            [
             1,
             "#276419"
            ]
           ],
           "sequential": [
            [
             0,
             "#0d0887"
            ],
            [
             0.1111111111111111,
             "#46039f"
            ],
            [
             0.2222222222222222,
             "#7201a8"
            ],
            [
             0.3333333333333333,
             "#9c179e"
            ],
            [
             0.4444444444444444,
             "#bd3786"
            ],
            [
             0.5555555555555556,
             "#d8576b"
            ],
            [
             0.6666666666666666,
             "#ed7953"
            ],
            [
             0.7777777777777778,
             "#fb9f3a"
            ],
            [
             0.8888888888888888,
             "#fdca26"
            ],
            [
             1,
             "#f0f921"
            ]
           ],
           "sequentialminus": [
            [
             0,
             "#0d0887"
            ],
            [
             0.1111111111111111,
             "#46039f"
            ],
            [
             0.2222222222222222,
             "#7201a8"
            ],
            [
             0.3333333333333333,
             "#9c179e"
            ],
            [
             0.4444444444444444,
             "#bd3786"
            ],
            [
             0.5555555555555556,
             "#d8576b"
            ],
            [
             0.6666666666666666,
             "#ed7953"
            ],
            [
             0.7777777777777778,
             "#fb9f3a"
            ],
            [
             0.8888888888888888,
             "#fdca26"
            ],
            [
             1,
             "#f0f921"
            ]
           ]
          },
          "colorway": [
           "#636efa",
           "#EF553B",
           "#00cc96",
           "#ab63fa",
           "#FFA15A",
           "#19d3f3",
           "#FF6692",
           "#B6E880",
           "#FF97FF",
           "#FECB52"
          ],
          "font": {
           "color": "#2a3f5f"
          },
          "geo": {
           "bgcolor": "white",
           "lakecolor": "white",
           "landcolor": "#E5ECF6",
           "showlakes": true,
           "showland": true,
           "subunitcolor": "white"
          },
          "hoverlabel": {
           "align": "left"
          },
          "hovermode": "closest",
          "mapbox": {
           "style": "light"
          },
          "paper_bgcolor": "white",
          "plot_bgcolor": "#E5ECF6",
          "polar": {
           "angularaxis": {
            "gridcolor": "white",
            "linecolor": "white",
            "ticks": ""
           },
           "bgcolor": "#E5ECF6",
           "radialaxis": {
            "gridcolor": "white",
            "linecolor": "white",
            "ticks": ""
           }
          },
          "scene": {
           "xaxis": {
            "backgroundcolor": "#E5ECF6",
            "gridcolor": "white",
            "gridwidth": 2,
            "linecolor": "white",
            "showbackground": true,
            "ticks": "",
            "zerolinecolor": "white"
           },
           "yaxis": {
            "backgroundcolor": "#E5ECF6",
            "gridcolor": "white",
            "gridwidth": 2,
            "linecolor": "white",
            "showbackground": true,
            "ticks": "",
            "zerolinecolor": "white"
           },
           "zaxis": {
            "backgroundcolor": "#E5ECF6",
            "gridcolor": "white",
            "gridwidth": 2,
            "linecolor": "white",
            "showbackground": true,
            "ticks": "",
            "zerolinecolor": "white"
           }
          },
          "shapedefaults": {
           "line": {
            "color": "#2a3f5f"
           }
          },
          "ternary": {
           "aaxis": {
            "gridcolor": "white",
            "linecolor": "white",
            "ticks": ""
           },
           "baxis": {
            "gridcolor": "white",
            "linecolor": "white",
            "ticks": ""
           },
           "bgcolor": "#E5ECF6",
           "caxis": {
            "gridcolor": "white",
            "linecolor": "white",
            "ticks": ""
           }
          },
          "title": {
           "x": 0.05
          },
          "xaxis": {
           "automargin": true,
           "gridcolor": "white",
           "linecolor": "white",
           "ticks": "",
           "title": {
            "standoff": 15
           },
           "zerolinecolor": "white",
           "zerolinewidth": 2
          },
          "yaxis": {
           "automargin": true,
           "gridcolor": "white",
           "linecolor": "white",
           "ticks": "",
           "title": {
            "standoff": 15
           },
           "zerolinecolor": "white",
           "zerolinewidth": 2
          }
         }
        },
        "title": {
         "text": "Average Submitted Covered Charges by State"
        }
       }
      },
      "image/png": "[encoded data removed]",
      "text/html": [
       "<div>                            <div id=\"af943a8e-a70e-4fc2-a38f-ee863825f6ba\" class=\"plotly-graph-div\" style=\"height:525px; width:100%;\"></div>            <script type=\"text/javascript\">                require([\"plotly\"], function(Plotly) {                    window.PLOTLYENV=window.PLOTLYENV || {};                                    if (document.getElementById(\"af943a8e-a70e-4fc2-a38f-ee863825f6ba\")) {                    Plotly.newPlot(                        \"af943a8e-a70e-4fc2-a38f-ee863825f6ba\",                        [{\"coloraxis\":\"coloraxis\",\"geo\":\"geo\",\"hovertemplate\":\"Rndrng_Prvdr_State_Abrvtn=%{location}<br>Avg_Submtd_Cvrd_Chrg=%{z}<extra></extra>\",\"locationmode\":\"USA-states\",\"locations\":[\"AK\",\"AL\",\"AR\",\"AZ\",\"CA\",\"CO\",\"CT\",\"DC\",\"DE\",\"FL\",\"GA\",\"HI\",\"IA\",\"ID\",\"IL\",\"IN\",\"KS\",\"KY\",\"LA\",\"MA\",\"MD\",\"ME\",\"MI\",\"MN\",\"MO\",\"MS\",\"MT\",\"NC\",\"ND\",\"NE\",\"NH\",\"NJ\",\"NM\",\"NV\",\"NY\",\"OH\",\"OK\",\"OR\",\"PA\",\"RI\",\"SC\",\"SD\",\"TN\",\"TX\",\"UT\",\"VA\",\"VT\",\"WA\",\"WI\",\"WV\",\"WY\"],\"name\":\"\",\"z\":[58094.46176225,32680.07214592174,26382.82629921887,45376.68128156896,67159.51834831183,63173.535773761905,31147.07760028889,55362.058504333334,26555.449584117647,48294.79832251534,36278.29320496774,38491.294279333335,25980.611401000002,32975.45168955556,32903.06831986339,31079.161005391303,39147.36991348649,29136.028126114285,28195.342715866664,20483.393668165518,14942.437602386315,25066.918906,25213.579450125002,26501.551313214288,34664.55665372165,32746.251273379312,23294.383867,25940.910136324506,18392.242562636362,27372.81333392,26936.58859885714,64161.94832749624,33736.8131888125,70490.05870852174,43309.54382361702,29382.55391725,39172.60333582,34449.04696819048,41679.03939146369,27677.894124416664,34557.058782,33606.38662663637,31797.674481444446,47051.92414976393,25460.41363,30901.16375356,25650.3825105,41108.155832883334,28998.473024653063,23938.989281631577,26906.1652046],\"type\":\"choropleth\"}],                        {\"template\":{\"data\":{\"bar\":[{\"error_x\":{\"color\":\"#2a3f5f\"},\"error_y\":{\"color\":\"#2a3f5f\"},\"marker\":{\"line\":{\"color\":\"#E5ECF6\",\"width\":0.5},\"pattern\":{\"fillmode\":\"overlay\",\"size\":10,\"solidity\":0.2}},\"type\":\"bar\"}],\"barpolar\":[{\"marker\":{\"line\":{\"color\":\"#E5ECF6\",\"width\":0.5},\"pattern\":{\"fillmode\":\"overlay\",\"size\":10,\"solidity\":0.2}},\"type\":\"barpolar\"}],\"carpet\":[{\"aaxis\":{\"endlinecolor\":\"#2a3f5f\",\"gridcolor\":\"white\",\"linecolor\":\"white\",\"minorgridcolor\":\"white\",\"startlinecolor\":\"#2a3f5f\"},\"baxis\":{\"endlinecolor\":\"#2a3f5f\",\"gridcolor\":\"white\",\"linecolor\":\"white\",\"minorgridcolor\":\"white\",\"startlinecolor\":\"#2a3f5f\"},\"type\":\"carpet\"}],\"choropleth\":[{\"colorbar\":{\"outlinewidth\":0,\"ticks\":\"\"},\"type\":\"choropleth\"}],\"contour\":[{\"colorbar\":{\"outlinewidth\":0,\"ticks\":\"\"},\"colorscale\":[[0.0,\"#0d0887\"],[0.1111111111111111,\"#46039f\"],[0.2222222222222222,\"#7201a8\"],[0.3333333333333333,\"#9c179e\"],[0.4444444444444444,\"#bd3786\"],[0.5555555555555556,\"#d8576b\"],[0.6666666666666666,\"#ed7953\"],[0.7777777777777778,\"#fb9f3a\"],[0.8888888888888888,\"#fdca26\"],[1.0,\"#f0f921\"]],\"type\":\"contour\"}],\"contourcarpet\":[{\"colorbar\":{\"outlinewidth\":0,\"ticks\":\"\"},\"type\":\"contourcarpet\"}],\"heatmap\":[{\"colorbar\":{\"outlinewidth\":0,\"ticks\":\"\"},\"colorscale\":[[0.0,\"#0d0887\"],[0.1111111111111111,\"#46039f\"],[0.2222222222222222,\"#7201a8\"],[0.3333333333333333,\"#9c179e\"],[0.4444444444444444,\"#bd3786\"],[0.5555555555555556,\"#d8576b\"],[0.6666666666666666,\"#ed7953\"],[0.7777777777777778,\"#fb9f3a\"],[0.8888888888888888,\"#fdca26\"],[1.0,\"#f0f921\"]],\"type\":\"heatmap\"}],\"heatmapgl\":[{\"colorbar\":{\"outlinewidth\":0,\"ticks\":\"\"},\"colorscale\":[[0.0,\"#0d0887\"],[0.1111111111111111,\"#46039f\"],[0.2222222222222222,\"#7201a8\"],[0.3333333333333333,\"#9c179e\"],[0.4444444444444444,\"#bd3786\"],[0.5555555555555556,\"#d8576b\"],[0.6666666666666666,\"#ed7953\"],[0.7777777777777778,\"#fb9f3a\"],[0.8888888888888888,\"#fdca26\"],[1.0,\"#f0f921\"]],\"type\":\"heatmapgl\"}],\"histogram\":[{\"marker\":{\"pattern\":{\"fillmode\":\"overlay\",\"size\":10,\"solidity\":0.2}},\"type\":\"histogram\"}],\"histogram2d\":[{\"colorbar\":{\"outlinewidth\":0,\"ticks\":\"\"},\"colorscale\":[[0.0,\"#0d0887\"],[0.1111111111111111,\"#46039f\"],[0.2222222222222222,\"#7201a8\"],[0.3333333333333333,\"#9c179e\"],[0.4444444444444444,\"#bd3786\"],[0.5555555555555556,\"#d8576b\"],[0.6666666666666666,\"#ed7953\"],[0.7777777777777778,\"#fb9f3a\"],[0.8888888888888888,\"#fdca26\"],[1.0,\"#f0f921\"]],\"type\":\"histogram2d\"}],\"histogram2dcontour\":[{\"colorbar\":{\"outlinewidth\":0,\"ticks\":\"\"},\"colorscale\":[[0.0,\"#0d0887\"],[0.1111111111111111,\"#46039f\"],[0.2222222222222222,\"#7201a8\"],[0.3333333333333333,\"#9c179e\"],[0.4444444444444444,\"#bd3786\"],[0.5555555555555556,\"#d8576b\"],[0.6666666666666666,\"#ed7953\"],[0.7777777777777778,\"#fb9f3a\"],[0.8888888888888888,\"#fdca26\"],[1.0,\"#f0f921\"]],\"type\":\"histogram2dcontour\"}],\"mesh3d\":[{\"colorbar\":{\"outlinewidth\":0,\"ticks\":\"\"},\"type\":\"mesh3d\"}],\"parcoords\":[{\"line\":{\"colorbar\":{\"outlinewidth\":0,\"ticks\":\"\"}},\"type\":\"parcoords\"}],\"pie\":[{\"automargin\":true,\"type\":\"pie\"}],\"scatter\":[{\"marker\":{\"colorbar\":{\"outlinewidth\":0,\"ticks\":\"\"}},\"type\":\"scatter\"}],\"scatter3d\":[{\"line\":{\"colorbar\":{\"outlinewidth\":0,\"ticks\":\"\"}},\"marker\":{\"colorbar\":{\"outlinewidth\":0,\"ticks\":\"\"}},\"type\":\"scatter3d\"}],\"scattercarpet\":[{\"marker\":{\"colorbar\":{\"outlinewidth\":0,\"ticks\":\"\"}},\"type\":\"scattercarpet\"}],\"scattergeo\":[{\"marker\":{\"colorbar\":{\"outlinewidth\":0,\"ticks\":\"\"}},\"type\":\"scattergeo\"}],\"scattergl\":[{\"marker\":{\"colorbar\":{\"outlinewidth\":0,\"ticks\":\"\"}},\"type\":\"scattergl\"}],\"scattermapbox\":[{\"marker\":{\"colorbar\":{\"outlinewidth\":0,\"ticks\":\"\"}},\"type\":\"scattermapbox\"}],\"scatterpolar\":[{\"marker\":{\"colorbar\":{\"outlinewidth\":0,\"ticks\":\"\"}},\"type\":\"scatterpolar\"}],\"scatterpolargl\":[{\"marker\":{\"colorbar\":{\"outlinewidth\":0,\"ticks\":\"\"}},\"type\":\"scatterpolargl\"}],\"scatterternary\":[{\"marker\":{\"colorbar\":{\"outlinewidth\":0,\"ticks\":\"\"}},\"type\":\"scatterternary\"}],\"surface\":[{\"colorbar\":{\"outlinewidth\":0,\"ticks\":\"\"},\"colorscale\":[[0.0,\"#0d0887\"],[0.1111111111111111,\"#46039f\"],[0.2222222222222222,\"#7201a8\"],[0.3333333333333333,\"#9c179e\"],[0.4444444444444444,\"#bd3786\"],[0.5555555555555556,\"#d8576b\"],[0.6666666666666666,\"#ed7953\"],[0.7777777777777778,\"#fb9f3a\"],[0.8888888888888888,\"#fdca26\"],[1.0,\"#f0f921\"]],\"type\":\"surface\"}],\"table\":[{\"cells\":{\"fill\":{\"color\":\"#EBF0F8\"},\"line\":{\"color\":\"white\"}},\"header\":{\"fill\":{\"color\":\"#C8D4E3\"},\"line\":{\"color\":\"white\"}},\"type\":\"table\"}]},\"layout\":{\"annotationdefaults\":{\"arrowcolor\":\"#2a3f5f\",\"arrowhead\":0,\"arrowwidth\":1},\"autotypenumbers\":\"strict\",\"coloraxis\":{\"colorbar\":{\"outlinewidth\":0,\"ticks\":\"\"}},\"colorscale\":{\"diverging\":[[0,\"#8e0152\"],[0.1,\"#c51b7d\"],[0.2,\"#de77ae\"],[0.3,\"#f1b6da\"],[0.4,\"#fde0ef\"],[0.5,\"#f7f7f7\"],[0.6,\"#e6f5d0\"],[0.7,\"#b8e186\"],[0.8,\"#7fbc41\"],[0.9,\"#4d9221\"],[1,\"#276419\"]],\"sequential\":[[0.0,\"#0d0887\"],[0.1111111111111111,\"#46039f\"],[0.2222222222222222,\"#7201a8\"],[0.3333333333333333,\"#9c179e\"],[0.4444444444444444,\"#bd3786\"],[0.5555555555555556,\"#d8576b\"],[0.6666666666666666,\"#ed7953\"],[0.7777777777777778,\"#fb9f3a\"],[0.8888888888888888,\"#fdca26\"],[1.0,\"#f0f921\"]],\"sequentialminus\":[[0.0,\"#0d0887\"],[0.1111111111111111,\"#46039f\"],[0.2222222222222222,\"#7201a8\"],[0.3333333333333333,\"#9c179e\"],[0.4444444444444444,\"#bd3786\"],[0.5555555555555556,\"#d8576b\"],[0.6666666666666666,\"#ed7953\"],[0.7777777777777778,\"#fb9f3a\"],[0.8888888888888888,\"#fdca26\"],[1.0,\"#f0f921\"]]},\"colorway\":[\"#636efa\",\"#EF553B\",\"#00cc96\",\"#ab63fa\",\"#FFA15A\",\"#19d3f3\",\"#FF6692\",\"#B6E880\",\"#FF97FF\",\"#FECB52\"],\"font\":{\"color\":\"#2a3f5f\"},\"geo\":{\"bgcolor\":\"white\",\"lakecolor\":\"white\",\"landcolor\":\"#E5ECF6\",\"showlakes\":true,\"showland\":true,\"subunitcolor\":\"white\"},\"hoverlabel\":{\"align\":\"left\"},\"hovermode\":\"closest\",\"mapbox\":{\"style\":\"light\"},\"paper_bgcolor\":\"white\",\"plot_bgcolor\":\"#E5ECF6\",\"polar\":{\"angularaxis\":{\"gridcolor\":\"white\",\"linecolor\":\"white\",\"ticks\":\"\"},\"bgcolor\":\"#E5ECF6\",\"radialaxis\":{\"gridcolor\":\"white\",\"linecolor\":\"white\",\"ticks\":\"\"}},\"scene\":{\"xaxis\":{\"backgroundcolor\":\"#E5ECF6\",\"gridcolor\":\"white\",\"gridwidth\":2,\"linecolor\":\"white\",\"showbackground\":true,\"ticks\":\"\",\"zerolinecolor\":\"white\"},\"yaxis\":{\"backgroundcolor\":\"#E5ECF6\",\"gridcolor\":\"white\",\"gridwidth\":2,\"linecolor\":\"white\",\"showbackground\":true,\"ticks\":\"\",\"zerolinecolor\":\"white\"},\"zaxis\":{\"backgroundcolor\":\"#E5ECF6\",\"gridcolor\":\"white\",\"gridwidth\":2,\"linecolor\":\"white\",\"showbackground\":true,\"ticks\":\"\",\"zerolinecolor\":\"white\"}},\"shapedefaults\":{\"line\":{\"color\":\"#2a3f5f\"}},\"ternary\":{\"aaxis\":{\"gridcolor\":\"white\",\"linecolor\":\"white\",\"ticks\":\"\"},\"baxis\":{\"gridcolor\":\"white\",\"linecolor\":\"white\",\"ticks\":\"\"},\"bgcolor\":\"#E5ECF6\",\"caxis\":{\"gridcolor\":\"white\",\"linecolor\":\"white\",\"ticks\":\"\"}},\"title\":{\"x\":0.05},\"xaxis\":{\"automargin\":true,\"gridcolor\":\"white\",\"linecolor\":\"white\",\"ticks\":\"\",\"title\":{\"standoff\":15},\"zerolinecolor\":\"white\",\"zerolinewidth\":2},\"yaxis\":{\"automargin\":true,\"gridcolor\":\"white\",\"linecolor\":\"white\",\"ticks\":\"\",\"title\":{\"standoff\":15},\"zerolinecolor\":\"white\",\"zerolinewidth\":2}}},\"geo\":{\"domain\":{\"x\":[0.0,1.0],\"y\":[0.0,1.0]},\"center\":{},\"scope\":\"usa\"},\"coloraxis\":{\"colorbar\":{\"title\":{\"text\":\"Avg_Submtd_Cvrd_Chrg\"}},\"colorscale\":[[0.0,\"#440154\"],[0.1111111111111111,\"#482878\"],[0.2222222222222222,\"#3e4989\"],[0.3333333333333333,\"#31688e\"],[0.4444444444444444,\"#26828e\"],[0.5555555555555556,\"#1f9e89\"],[0.6666666666666666,\"#35b779\"],[0.7777777777777778,\"#6ece58\"],[0.8888888888888888,\"#b5de2b\"],[1.0,\"#fde725\"]]},\"legend\":{\"tracegroupgap\":0},\"title\":{\"text\":\"Average Submitted Covered Charges by State\"}},                        {\"responsive\": true}                    ).then(function(){\n",
       "                            \n",
       "var gd = document.getElementById('af943a8e-a70e-4fc2-a38f-ee863825f6ba');\n",
       "var x = new MutationObserver(function (mutations, observer) {{\n",
       "        var display = window.getComputedStyle(gd).display;\n",
       "        if (!display || display === 'none') {{\n",
       "            console.log([gd, 'removed!']);\n",
       "            Plotly.purge(gd);\n",
       "            observer.disconnect();\n",
       "        }}\n",
       "}});\n",
       "\n",
       "// Listen for the removal of the full notebook cells\n",
       "var notebookContainer = gd.closest('#notebook-container');\n",
       "if (notebookContainer) {{\n",
       "    x.observe(notebookContainer, {childList: true});\n",
       "}}\n",
       "\n",
       "// Listen for the clearing of the current output cell\n",
       "var outputEl = gd.closest('.output');\n",
       "if (outputEl) {{\n",
       "    x.observe(outputEl, {childList: true});\n",
       "}}\n",
       "\n",
       "                        })                };                });            </script>        </div>"
      ]
     },
     "metadata": {},
     "output_type": "display_data"
    },
    {
     "data": {
      "application/vnd.plotly.v1+json": {
       "config": {
        "plotlyServerURL": "https://plot.ly"
       },
       "data": [
        {
         "coloraxis": "coloraxis",
         "geo": "geo",
         "hovertemplate": "Rndrng_Prvdr_State_Abrvtn=%{location}<br>Avg_Mdcr_Pymt_Amt=%{z}<extra></extra>",
         "locationmode": "USA-states",
         "locations": [
          "AK",
          "AL",
          "AR",
          "AZ",
          "CA",
          "CO",
          "CT",
          "DC",
          "DE",
          "FL",
          "GA",
          "HI",
          "IA",
          "ID",
          "IL",
          "IN",
          "KS",
          "KY",
          "LA",
          "MA",
          "MD",
          "ME",
          "MI",
          "MN",
          "MO",
          "MS",
          "MT",
          "NC",
          "ND",
          "NE",
          "NH",
          "NJ",
          "NM",
          "NV",
          "NY",
          "OH",
          "OK",
          "OR",
          "PA",
          "RI",
          "SC",
          "SD",
          "TN",
          "TX",
          "UT",
          "VA",
          "VT",
          "WA",
          "WI",
          "WV",
          "WY"
         ],
         "name": "",
         "type": "choropleth",
         "z": [
          9722.471596874999,
          5413.034408755072,
          5395.38736615283,
          6356.9966534482755,
          9160.964270146955,
          7294.815210466667,
          7832.883197551111,
          8394.867528675,
          6426.785862294118,
          6215.396078785583,
          7139.189253070323,
          8035.739638866667,
          5489.73962052353,
          7491.896915555557,
          6668.9543804448085,
          6355.090210253262,
          5693.110557516216,
          5401.369910722857,
          6523.736662522667,
          7851.463692092241,
          12318.08857538421,
          7161.90133508,
          6638.889896116667,
          7005.036308933333,
          6721.670549460825,
          5771.414158941379,
          7067.457369471428,
          6482.837976678145,
          5717.0599265,
          6129.211533892,
          5789.584311790476,
          7546.249779165413,
          6953.08131328125,
          6832.65244775,
          10245.297169390211,
          5957.070718602439,
          6202.938698733333,
          8328.084826004762,
          6356.667324266481,
          6799.915822808333,
          6207.417754233334,
          6328.246702509091,
          5587.153720573738,
          7721.199529290164,
          7424.419818011111,
          6202.2200181928,
          4347.86313025,
          7448.877437146667,
          6696.111116173469,
          5540.303225610526,
          7932.3682748599995
         ]
        }
       ],
       "layout": {
        "autosize": true,
        "coloraxis": {
         "colorbar": {
          "title": {
           "text": "Avg_Mdcr_Pymt_Amt"
          }
         },
         "colorscale": [
          [
           0,
           "#440154"
          ],
          [
           0.1111111111111111,
           "#482878"
          ],
          [
           0.2222222222222222,
           "#3e4989"
          ],
          [
           0.3333333333333333,
           "#31688e"
          ],
          [
           0.4444444444444444,
           "#26828e"
          ],
          [
           0.5555555555555556,
           "#1f9e89"
          ],
          [
           0.6666666666666666,
           "#35b779"
          ],
          [
           0.7777777777777778,
           "#6ece58"
          ],
          [
           0.8888888888888888,
           "#b5de2b"
          ],
          [
           1,
           "#fde725"
          ]
         ]
        },
        "geo": {
         "center": {},
         "domain": {
          "x": [
           0,
           1
          ],
          "y": [
           0,
           1
          ]
         },
         "scope": "usa"
        },
        "legend": {
         "tracegroupgap": 0
        },
        "template": {
         "data": {
          "bar": [
           {
            "error_x": {
             "color": "#2a3f5f"
            },
            "error_y": {
             "color": "#2a3f5f"
            },
            "marker": {
             "line": {
              "color": "#E5ECF6",
              "width": 0.5
             },
             "pattern": {
              "fillmode": "overlay",
              "size": 10,
              "solidity": 0.2
             }
            },
            "type": "bar"
           }
          ],
          "barpolar": [
           {
            "marker": {
             "line": {
              "color": "#E5ECF6",
              "width": 0.5
             },
             "pattern": {
              "fillmode": "overlay",
              "size": 10,
              "solidity": 0.2
             }
            },
            "type": "barpolar"
           }
          ],
          "carpet": [
           {
            "aaxis": {
             "endlinecolor": "#2a3f5f",
             "gridcolor": "white",
             "linecolor": "white",
             "minorgridcolor": "white",
             "startlinecolor": "#2a3f5f"
            },
            "baxis": {
             "endlinecolor": "#2a3f5f",
             "gridcolor": "white",
             "linecolor": "white",
             "minorgridcolor": "white",
             "startlinecolor": "#2a3f5f"
            },
            "type": "carpet"
           }
          ],
          "choropleth": [
           {
            "colorbar": {
             "outlinewidth": 0,
             "ticks": ""
            },
            "type": "choropleth"
           }
          ],
          "contour": [
           {
            "colorbar": {
             "outlinewidth": 0,
             "ticks": ""
            },
            "colorscale": [
             [
              0,
              "#0d0887"
             ],
             [
              0.1111111111111111,
              "#46039f"
             ],
             [
              0.2222222222222222,
              "#7201a8"
             ],
             [
              0.3333333333333333,
              "#9c179e"
             ],
             [
              0.4444444444444444,
              "#bd3786"
             ],
             [
              0.5555555555555556,
              "#d8576b"
             ],
             [
              0.6666666666666666,
              "#ed7953"
             ],
             [
              0.7777777777777778,
              "#fb9f3a"
             ],
             [
              0.8888888888888888,
              "#fdca26"
             ],
             [
              1,
              "#f0f921"
             ]
            ],
            "type": "contour"
           }
          ],
          "contourcarpet": [
           {
            "colorbar": {
             "outlinewidth": 0,
             "ticks": ""
            },
            "type": "contourcarpet"
           }
          ],
          "heatmap": [
           {
            "colorbar": {
             "outlinewidth": 0,
             "ticks": ""
            },
            "colorscale": [
             [
              0,
              "#0d0887"
             ],
             [
              0.1111111111111111,
              "#46039f"
             ],
             [
              0.2222222222222222,
              "#7201a8"
             ],
             [
              0.3333333333333333,
              "#9c179e"
             ],
             [
              0.4444444444444444,
              "#bd3786"
             ],
             [
              0.5555555555555556,
              "#d8576b"
             ],
             [
              0.6666666666666666,
              "#ed7953"
             ],
             [
              0.7777777777777778,
              "#fb9f3a"
             ],
             [
              0.8888888888888888,
              "#fdca26"
             ],
             [
              1,
              "#f0f921"
             ]
            ],
            "type": "heatmap"
           }
          ],
          "heatmapgl": [
           {
            "colorbar": {
             "outlinewidth": 0,
             "ticks": ""
            },
            "colorscale": [
             [
              0,
              "#0d0887"
             ],
             [
              0.1111111111111111,
              "#46039f"
             ],
             [
              0.2222222222222222,
              "#7201a8"
             ],
             [
              0.3333333333333333,
              "#9c179e"
             ],
             [
              0.4444444444444444,
              "#bd3786"
             ],
             [
              0.5555555555555556,
              "#d8576b"
             ],
             [
              0.6666666666666666,
              "#ed7953"
             ],
             [
              0.7777777777777778,
              "#fb9f3a"
             ],
             [
              0.8888888888888888,
              "#fdca26"
             ],
             [
              1,
              "#f0f921"
             ]
            ],
            "type": "heatmapgl"
           }
          ],
          "histogram": [
           {
            "marker": {
             "pattern": {
              "fillmode": "overlay",
              "size": 10,
              "solidity": 0.2
             }
            },
            "type": "histogram"
           }
          ],
          "histogram2d": [
           {
            "colorbar": {
             "outlinewidth": 0,
             "ticks": ""
            },
            "colorscale": [
             [
              0,
              "#0d0887"
             ],
             [
              0.1111111111111111,
              "#46039f"
             ],
             [
              0.2222222222222222,
              "#7201a8"
             ],
             [
              0.3333333333333333,
              "#9c179e"
             ],
             [
              0.4444444444444444,
              "#bd3786"
             ],
             [
              0.5555555555555556,
              "#d8576b"
             ],
             [
              0.6666666666666666,
              "#ed7953"
             ],
             [
              0.7777777777777778,
              "#fb9f3a"
             ],
             [
              0.8888888888888888,
              "#fdca26"
             ],
             [
              1,
              "#f0f921"
             ]
            ],
            "type": "histogram2d"
           }
          ],
          "histogram2dcontour": [
           {
            "colorbar": {
             "outlinewidth": 0,
             "ticks": ""
            },
            "colorscale": [
             [
              0,
              "#0d0887"
             ],
             [
              0.1111111111111111,
              "#46039f"
             ],
             [
              0.2222222222222222,
              "#7201a8"
             ],
             [
              0.3333333333333333,
              "#9c179e"
             ],
             [
              0.4444444444444444,
              "#bd3786"
             ],
             [
              0.5555555555555556,
              "#d8576b"
             ],
             [
              0.6666666666666666,
              "#ed7953"
             ],
             [
              0.7777777777777778,
              "#fb9f3a"
             ],
             [
              0.8888888888888888,
              "#fdca26"
             ],
             [
              1,
              "#f0f921"
             ]
            ],
            "type": "histogram2dcontour"
           }
          ],
          "mesh3d": [
           {
            "colorbar": {
             "outlinewidth": 0,
             "ticks": ""
            },
            "type": "mesh3d"
           }
          ],
          "parcoords": [
           {
            "line": {
             "colorbar": {
              "outlinewidth": 0,
              "ticks": ""
             }
            },
            "type": "parcoords"
           }
          ],
          "pie": [
           {
            "automargin": true,
            "type": "pie"
           }
          ],
          "scatter": [
           {
            "marker": {
             "colorbar": {
              "outlinewidth": 0,
              "ticks": ""
             }
            },
            "type": "scatter"
           }
          ],
          "scatter3d": [
           {
            "line": {
             "colorbar": {
              "outlinewidth": 0,
              "ticks": ""
             }
            },
            "marker": {
             "colorbar": {
              "outlinewidth": 0,
              "ticks": ""
             }
            },
            "type": "scatter3d"
           }
          ],
          "scattercarpet": [
           {
            "marker": {
             "colorbar": {
              "outlinewidth": 0,
              "ticks": ""
             }
            },
            "type": "scattercarpet"
           }
          ],
          "scattergeo": [
           {
            "marker": {
             "colorbar": {
              "outlinewidth": 0,
              "ticks": ""
             }
            },
            "type": "scattergeo"
           }
          ],
          "scattergl": [
           {
            "marker": {
             "colorbar": {
              "outlinewidth": 0,
              "ticks": ""
             }
            },
            "type": "scattergl"
           }
          ],
          "scattermapbox": [
           {
            "marker": {
             "colorbar": {
              "outlinewidth": 0,
              "ticks": ""
             }
            },
            "type": "scattermapbox"
           }
          ],
          "scatterpolar": [
           {
            "marker": {
             "colorbar": {
              "outlinewidth": 0,
              "ticks": ""
             }
            },
            "type": "scatterpolar"
           }
          ],
          "scatterpolargl": [
           {
            "marker": {
             "colorbar": {
              "outlinewidth": 0,
              "ticks": ""
             }
            },
            "type": "scatterpolargl"
           }
          ],
          "scatterternary": [
           {
            "marker": {
             "colorbar": {
              "outlinewidth": 0,
              "ticks": ""
             }
            },
            "type": "scatterternary"
           }
          ],
          "surface": [
           {
            "colorbar": {
             "outlinewidth": 0,
             "ticks": ""
            },
            "colorscale": [
             [
              0,
              "#0d0887"
             ],
             [
              0.1111111111111111,
              "#46039f"
             ],
             [
              0.2222222222222222,
              "#7201a8"
             ],
             [
              0.3333333333333333,
              "#9c179e"
             ],
             [
              0.4444444444444444,
              "#bd3786"
             ],
             [
              0.5555555555555556,
              "#d8576b"
             ],
             [
              0.6666666666666666,
              "#ed7953"
             ],
             [
              0.7777777777777778,
              "#fb9f3a"
             ],
             [
              0.8888888888888888,
              "#fdca26"
             ],
             [
              1,
              "#f0f921"
             ]
            ],
            "type": "surface"
           }
          ],
          "table": [
           {
            "cells": {
             "fill": {
              "color": "#EBF0F8"
             },
             "line": {
              "color": "white"
             }
            },
            "header": {
             "fill": {
              "color": "#C8D4E3"
             },
             "line": {
              "color": "white"
             }
            },
            "type": "table"
           }
          ]
         },
         "layout": {
          "annotationdefaults": {
           "arrowcolor": "#2a3f5f",
           "arrowhead": 0,
           "arrowwidth": 1
          },
          "autotypenumbers": "strict",
          "coloraxis": {
           "colorbar": {
            "outlinewidth": 0,
            "ticks": ""
           }
          },
          "colorscale": {
           "diverging": [
            [
             0,
             "#8e0152"
            ],
            [
             0.1,
             "#c51b7d"
            ],
            [
             0.2,
             "#de77ae"
            ],
            [
             0.3,
             "#f1b6da"
            ],
            [
             0.4,
             "#fde0ef"
            ],
            [
             0.5,
             "#f7f7f7"
            ],
            [
             0.6,
             "#e6f5d0"
            ],
            [
             0.7,
             "#b8e186"
            ],
            [
             0.8,
             "#7fbc41"
            ],
            [
             0.9,
             "#4d9221"
            ],
            [
             1,
             "#276419"
            ]
           ],
           "sequential": [
            [
             0,
             "#0d0887"
            ],
            [
             0.1111111111111111,
             "#46039f"
            ],
            [
             0.2222222222222222,
             "#7201a8"
            ],
            [
             0.3333333333333333,
             "#9c179e"
            ],
            [
             0.4444444444444444,
             "#bd3786"
            ],
            [
             0.5555555555555556,
             "#d8576b"
            ],
            [
             0.6666666666666666,
             "#ed7953"
            ],
            [
             0.7777777777777778,
             "#fb9f3a"
            ],
            [
             0.8888888888888888,
             "#fdca26"
            ],
            [
             1,
             "#f0f921"
            ]
           ],
           "sequentialminus": [
            [
             0,
             "#0d0887"
            ],
            [
             0.1111111111111111,
             "#46039f"
            ],
            [
             0.2222222222222222,
             "#7201a8"
            ],
            [
             0.3333333333333333,
             "#9c179e"
            ],
            [
             0.4444444444444444,
             "#bd3786"
            ],
            [
             0.5555555555555556,
             "#d8576b"
            ],
            [
             0.6666666666666666,
             "#ed7953"
            ],
            [
             0.7777777777777778,
             "#fb9f3a"
            ],
            [
             0.8888888888888888,
             "#fdca26"
            ],
            [
             1,
             "#f0f921"
            ]
           ]
          },
          "colorway": [
           "#636efa",
           "#EF553B",
           "#00cc96",
           "#ab63fa",
           "#FFA15A",
           "#19d3f3",
           "#FF6692",
           "#B6E880",
           "#FF97FF",
           "#FECB52"
          ],
          "font": {
           "color": "#2a3f5f"
          },
          "geo": {
           "bgcolor": "white",
           "lakecolor": "white",
           "landcolor": "#E5ECF6",
           "showlakes": true,
           "showland": true,
           "subunitcolor": "white"
          },
          "hoverlabel": {
           "align": "left"
          },
          "hovermode": "closest",
          "mapbox": {
           "style": "light"
          },
          "paper_bgcolor": "white",
          "plot_bgcolor": "#E5ECF6",
          "polar": {
           "angularaxis": {
            "gridcolor": "white",
            "linecolor": "white",
            "ticks": ""
           },
           "bgcolor": "#E5ECF6",
           "radialaxis": {
            "gridcolor": "white",
            "linecolor": "white",
            "ticks": ""
           }
          },
          "scene": {
           "xaxis": {
            "backgroundcolor": "#E5ECF6",
            "gridcolor": "white",
            "gridwidth": 2,
            "linecolor": "white",
            "showbackground": true,
            "ticks": "",
            "zerolinecolor": "white"
           },
           "yaxis": {
            "backgroundcolor": "#E5ECF6",
            "gridcolor": "white",
            "gridwidth": 2,
            "linecolor": "white",
            "showbackground": true,
            "ticks": "",
            "zerolinecolor": "white"
           },
           "zaxis": {
            "backgroundcolor": "#E5ECF6",
            "gridcolor": "white",
            "gridwidth": 2,
            "linecolor": "white",
            "showbackground": true,
            "ticks": "",
            "zerolinecolor": "white"
           }
          },
          "shapedefaults": {
           "line": {
            "color": "#2a3f5f"
           }
          },
          "ternary": {
           "aaxis": {
            "gridcolor": "white",
            "linecolor": "white",
            "ticks": ""
           },
           "baxis": {
            "gridcolor": "white",
            "linecolor": "white",
            "ticks": ""
           },
           "bgcolor": "#E5ECF6",
           "caxis": {
            "gridcolor": "white",
            "linecolor": "white",
            "ticks": ""
           }
          },
          "title": {
           "x": 0.05
          },
          "xaxis": {
           "automargin": true,
           "gridcolor": "white",
           "linecolor": "white",
           "ticks": "",
           "title": {
            "standoff": 15
           },
           "zerolinecolor": "white",
           "zerolinewidth": 2
          },
          "yaxis": {
           "automargin": true,
           "gridcolor": "white",
           "linecolor": "white",
           "ticks": "",
           "title": {
            "standoff": 15
           },
           "zerolinecolor": "white",
           "zerolinewidth": 2
          }
         }
        },
        "title": {
         "text": "Average Medicare Payment Amounts by State"
        }
       }
      },
      "image/png": "[encoded data removed]",
      "text/html": [
       "<div>                            <div id=\"ead462db-794e-4a81-9486-45804670f8c4\" class=\"plotly-graph-div\" style=\"height:525px; width:100%;\"></div>            <script type=\"text/javascript\">                require([\"plotly\"], function(Plotly) {                    window.PLOTLYENV=window.PLOTLYENV || {};                                    if (document.getElementById(\"ead462db-794e-4a81-9486-45804670f8c4\")) {                    Plotly.newPlot(                        \"ead462db-794e-4a81-9486-45804670f8c4\",                        [{\"coloraxis\":\"coloraxis\",\"geo\":\"geo\",\"hovertemplate\":\"Rndrng_Prvdr_State_Abrvtn=%{location}<br>Avg_Mdcr_Pymt_Amt=%{z}<extra></extra>\",\"locationmode\":\"USA-states\",\"locations\":[\"AK\",\"AL\",\"AR\",\"AZ\",\"CA\",\"CO\",\"CT\",\"DC\",\"DE\",\"FL\",\"GA\",\"HI\",\"IA\",\"ID\",\"IL\",\"IN\",\"KS\",\"KY\",\"LA\",\"MA\",\"MD\",\"ME\",\"MI\",\"MN\",\"MO\",\"MS\",\"MT\",\"NC\",\"ND\",\"NE\",\"NH\",\"NJ\",\"NM\",\"NV\",\"NY\",\"OH\",\"OK\",\"OR\",\"PA\",\"RI\",\"SC\",\"SD\",\"TN\",\"TX\",\"UT\",\"VA\",\"VT\",\"WA\",\"WI\",\"WV\",\"WY\"],\"name\":\"\",\"z\":[9722.471596874999,5413.034408755072,5395.38736615283,6356.9966534482755,9160.964270146955,7294.815210466667,7832.883197551111,8394.867528675,6426.785862294118,6215.396078785583,7139.189253070323,8035.739638866667,5489.73962052353,7491.896915555557,6668.9543804448085,6355.090210253262,5693.110557516216,5401.369910722857,6523.736662522667,7851.463692092241,12318.08857538421,7161.90133508,6638.889896116667,7005.036308933333,6721.670549460825,5771.414158941379,7067.457369471428,6482.837976678145,5717.0599265,6129.211533892,5789.584311790476,7546.249779165413,6953.08131328125,6832.65244775,10245.297169390211,5957.070718602439,6202.938698733333,8328.084826004762,6356.667324266481,6799.915822808333,6207.417754233334,6328.246702509091,5587.153720573738,7721.199529290164,7424.419818011111,6202.2200181928,4347.86313025,7448.877437146667,6696.111116173469,5540.303225610526,7932.3682748599995],\"type\":\"choropleth\"}],                        {\"template\":{\"data\":{\"bar\":[{\"error_x\":{\"color\":\"#2a3f5f\"},\"error_y\":{\"color\":\"#2a3f5f\"},\"marker\":{\"line\":{\"color\":\"#E5ECF6\",\"width\":0.5},\"pattern\":{\"fillmode\":\"overlay\",\"size\":10,\"solidity\":0.2}},\"type\":\"bar\"}],\"barpolar\":[{\"marker\":{\"line\":{\"color\":\"#E5ECF6\",\"width\":0.5},\"pattern\":{\"fillmode\":\"overlay\",\"size\":10,\"solidity\":0.2}},\"type\":\"barpolar\"}],\"carpet\":[{\"aaxis\":{\"endlinecolor\":\"#2a3f5f\",\"gridcolor\":\"white\",\"linecolor\":\"white\",\"minorgridcolor\":\"white\",\"startlinecolor\":\"#2a3f5f\"},\"baxis\":{\"endlinecolor\":\"#2a3f5f\",\"gridcolor\":\"white\",\"linecolor\":\"white\",\"minorgridcolor\":\"white\",\"startlinecolor\":\"#2a3f5f\"},\"type\":\"carpet\"}],\"choropleth\":[{\"colorbar\":{\"outlinewidth\":0,\"ticks\":\"\"},\"type\":\"choropleth\"}],\"contour\":[{\"colorbar\":{\"outlinewidth\":0,\"ticks\":\"\"},\"colorscale\":[[0.0,\"#0d0887\"],[0.1111111111111111,\"#46039f\"],[0.2222222222222222,\"#7201a8\"],[0.3333333333333333,\"#9c179e\"],[0.4444444444444444,\"#bd3786\"],[0.5555555555555556,\"#d8576b\"],[0.6666666666666666,\"#ed7953\"],[0.7777777777777778,\"#fb9f3a\"],[0.8888888888888888,\"#fdca26\"],[1.0,\"#f0f921\"]],\"type\":\"contour\"}],\"contourcarpet\":[{\"colorbar\":{\"outlinewidth\":0,\"ticks\":\"\"},\"type\":\"contourcarpet\"}],\"heatmap\":[{\"colorbar\":{\"outlinewidth\":0,\"ticks\":\"\"},\"colorscale\":[[0.0,\"#0d0887\"],[0.1111111111111111,\"#46039f\"],[0.2222222222222222,\"#7201a8\"],[0.3333333333333333,\"#9c179e\"],[0.4444444444444444,\"#bd3786\"],[0.5555555555555556,\"#d8576b\"],[0.6666666666666666,\"#ed7953\"],[0.7777777777777778,\"#fb9f3a\"],[0.8888888888888888,\"#fdca26\"],[1.0,\"#f0f921\"]],\"type\":\"heatmap\"}],\"heatmapgl\":[{\"colorbar\":{\"outlinewidth\":0,\"ticks\":\"\"},\"colorscale\":[[0.0,\"#0d0887\"],[0.1111111111111111,\"#46039f\"],[0.2222222222222222,\"#7201a8\"],[0.3333333333333333,\"#9c179e\"],[0.4444444444444444,\"#bd3786\"],[0.5555555555555556,\"#d8576b\"],[0.6666666666666666,\"#ed7953\"],[0.7777777777777778,\"#fb9f3a\"],[0.8888888888888888,\"#fdca26\"],[1.0,\"#f0f921\"]],\"type\":\"heatmapgl\"}],\"histogram\":[{\"marker\":{\"pattern\":{\"fillmode\":\"overlay\",\"size\":10,\"solidity\":0.2}},\"type\":\"histogram\"}],\"histogram2d\":[{\"colorbar\":{\"outlinewidth\":0,\"ticks\":\"\"},\"colorscale\":[[0.0,\"#0d0887\"],[0.1111111111111111,\"#46039f\"],[0.2222222222222222,\"#7201a8\"],[0.3333333333333333,\"#9c179e\"],[0.4444444444444444,\"#bd3786\"],[0.5555555555555556,\"#d8576b\"],[0.6666666666666666,\"#ed7953\"],[0.7777777777777778,\"#fb9f3a\"],[0.8888888888888888,\"#fdca26\"],[1.0,\"#f0f921\"]],\"type\":\"histogram2d\"}],\"histogram2dcontour\":[{\"colorbar\":{\"outlinewidth\":0,\"ticks\":\"\"},\"colorscale\":[[0.0,\"#0d0887\"],[0.1111111111111111,\"#46039f\"],[0.2222222222222222,\"#7201a8\"],[0.3333333333333333,\"#9c179e\"],[0.4444444444444444,\"#bd3786\"],[0.5555555555555556,\"#d8576b\"],[0.6666666666666666,\"#ed7953\"],[0.7777777777777778,\"#fb9f3a\"],[0.8888888888888888,\"#fdca26\"],[1.0,\"#f0f921\"]],\"type\":\"histogram2dcontour\"}],\"mesh3d\":[{\"colorbar\":{\"outlinewidth\":0,\"ticks\":\"\"},\"type\":\"mesh3d\"}],\"parcoords\":[{\"line\":{\"colorbar\":{\"outlinewidth\":0,\"ticks\":\"\"}},\"type\":\"parcoords\"}],\"pie\":[{\"automargin\":true,\"type\":\"pie\"}],\"scatter\":[{\"marker\":{\"colorbar\":{\"outlinewidth\":0,\"ticks\":\"\"}},\"type\":\"scatter\"}],\"scatter3d\":[{\"line\":{\"colorbar\":{\"outlinewidth\":0,\"ticks\":\"\"}},\"marker\":{\"colorbar\":{\"outlinewidth\":0,\"ticks\":\"\"}},\"type\":\"scatter3d\"}],\"scattercarpet\":[{\"marker\":{\"colorbar\":{\"outlinewidth\":0,\"ticks\":\"\"}},\"type\":\"scattercarpet\"}],\"scattergeo\":[{\"marker\":{\"colorbar\":{\"outlinewidth\":0,\"ticks\":\"\"}},\"type\":\"scattergeo\"}],\"scattergl\":[{\"marker\":{\"colorbar\":{\"outlinewidth\":0,\"ticks\":\"\"}},\"type\":\"scattergl\"}],\"scattermapbox\":[{\"marker\":{\"colorbar\":{\"outlinewidth\":0,\"ticks\":\"\"}},\"type\":\"scattermapbox\"}],\"scatterpolar\":[{\"marker\":{\"colorbar\":{\"outlinewidth\":0,\"ticks\":\"\"}},\"type\":\"scatterpolar\"}],\"scatterpolargl\":[{\"marker\":{\"colorbar\":{\"outlinewidth\":0,\"ticks\":\"\"}},\"type\":\"scatterpolargl\"}],\"scatterternary\":[{\"marker\":{\"colorbar\":{\"outlinewidth\":0,\"ticks\":\"\"}},\"type\":\"scatterternary\"}],\"surface\":[{\"colorbar\":{\"outlinewidth\":0,\"ticks\":\"\"},\"colorscale\":[[0.0,\"#0d0887\"],[0.1111111111111111,\"#46039f\"],[0.2222222222222222,\"#7201a8\"],[0.3333333333333333,\"#9c179e\"],[0.4444444444444444,\"#bd3786\"],[0.5555555555555556,\"#d8576b\"],[0.6666666666666666,\"#ed7953\"],[0.7777777777777778,\"#fb9f3a\"],[0.8888888888888888,\"#fdca26\"],[1.0,\"#f0f921\"]],\"type\":\"surface\"}],\"table\":[{\"cells\":{\"fill\":{\"color\":\"#EBF0F8\"},\"line\":{\"color\":\"white\"}},\"header\":{\"fill\":{\"color\":\"#C8D4E3\"},\"line\":{\"color\":\"white\"}},\"type\":\"table\"}]},\"layout\":{\"annotationdefaults\":{\"arrowcolor\":\"#2a3f5f\",\"arrowhead\":0,\"arrowwidth\":1},\"autotypenumbers\":\"strict\",\"coloraxis\":{\"colorbar\":{\"outlinewidth\":0,\"ticks\":\"\"}},\"colorscale\":{\"diverging\":[[0,\"#8e0152\"],[0.1,\"#c51b7d\"],[0.2,\"#de77ae\"],[0.3,\"#f1b6da\"],[0.4,\"#fde0ef\"],[0.5,\"#f7f7f7\"],[0.6,\"#e6f5d0\"],[0.7,\"#b8e186\"],[0.8,\"#7fbc41\"],[0.9,\"#4d9221\"],[1,\"#276419\"]],\"sequential\":[[0.0,\"#0d0887\"],[0.1111111111111111,\"#46039f\"],[0.2222222222222222,\"#7201a8\"],[0.3333333333333333,\"#9c179e\"],[0.4444444444444444,\"#bd3786\"],[0.5555555555555556,\"#d8576b\"],[0.6666666666666666,\"#ed7953\"],[0.7777777777777778,\"#fb9f3a\"],[0.8888888888888888,\"#fdca26\"],[1.0,\"#f0f921\"]],\"sequentialminus\":[[0.0,\"#0d0887\"],[0.1111111111111111,\"#46039f\"],[0.2222222222222222,\"#7201a8\"],[0.3333333333333333,\"#9c179e\"],[0.4444444444444444,\"#bd3786\"],[0.5555555555555556,\"#d8576b\"],[0.6666666666666666,\"#ed7953\"],[0.7777777777777778,\"#fb9f3a\"],[0.8888888888888888,\"#fdca26\"],[1.0,\"#f0f921\"]]},\"colorway\":[\"#636efa\",\"#EF553B\",\"#00cc96\",\"#ab63fa\",\"#FFA15A\",\"#19d3f3\",\"#FF6692\",\"#B6E880\",\"#FF97FF\",\"#FECB52\"],\"font\":{\"color\":\"#2a3f5f\"},\"geo\":{\"bgcolor\":\"white\",\"lakecolor\":\"white\",\"landcolor\":\"#E5ECF6\",\"showlakes\":true,\"showland\":true,\"subunitcolor\":\"white\"},\"hoverlabel\":{\"align\":\"left\"},\"hovermode\":\"closest\",\"mapbox\":{\"style\":\"light\"},\"paper_bgcolor\":\"white\",\"plot_bgcolor\":\"#E5ECF6\",\"polar\":{\"angularaxis\":{\"gridcolor\":\"white\",\"linecolor\":\"white\",\"ticks\":\"\"},\"bgcolor\":\"#E5ECF6\",\"radialaxis\":{\"gridcolor\":\"white\",\"linecolor\":\"white\",\"ticks\":\"\"}},\"scene\":{\"xaxis\":{\"backgroundcolor\":\"#E5ECF6\",\"gridcolor\":\"white\",\"gridwidth\":2,\"linecolor\":\"white\",\"showbackground\":true,\"ticks\":\"\",\"zerolinecolor\":\"white\"},\"yaxis\":{\"backgroundcolor\":\"#E5ECF6\",\"gridcolor\":\"white\",\"gridwidth\":2,\"linecolor\":\"white\",\"showbackground\":true,\"ticks\":\"\",\"zerolinecolor\":\"white\"},\"zaxis\":{\"backgroundcolor\":\"#E5ECF6\",\"gridcolor\":\"white\",\"gridwidth\":2,\"linecolor\":\"white\",\"showbackground\":true,\"ticks\":\"\",\"zerolinecolor\":\"white\"}},\"shapedefaults\":{\"line\":{\"color\":\"#2a3f5f\"}},\"ternary\":{\"aaxis\":{\"gridcolor\":\"white\",\"linecolor\":\"white\",\"ticks\":\"\"},\"baxis\":{\"gridcolor\":\"white\",\"linecolor\":\"white\",\"ticks\":\"\"},\"bgcolor\":\"#E5ECF6\",\"caxis\":{\"gridcolor\":\"white\",\"linecolor\":\"white\",\"ticks\":\"\"}},\"title\":{\"x\":0.05},\"xaxis\":{\"automargin\":true,\"gridcolor\":\"white\",\"linecolor\":\"white\",\"ticks\":\"\",\"title\":{\"standoff\":15},\"zerolinecolor\":\"white\",\"zerolinewidth\":2},\"yaxis\":{\"automargin\":true,\"gridcolor\":\"white\",\"linecolor\":\"white\",\"ticks\":\"\",\"title\":{\"standoff\":15},\"zerolinecolor\":\"white\",\"zerolinewidth\":2}}},\"geo\":{\"domain\":{\"x\":[0.0,1.0],\"y\":[0.0,1.0]},\"center\":{},\"scope\":\"usa\"},\"coloraxis\":{\"colorbar\":{\"title\":{\"text\":\"Avg_Mdcr_Pymt_Amt\"}},\"colorscale\":[[0.0,\"#440154\"],[0.1111111111111111,\"#482878\"],[0.2222222222222222,\"#3e4989\"],[0.3333333333333333,\"#31688e\"],[0.4444444444444444,\"#26828e\"],[0.5555555555555556,\"#1f9e89\"],[0.6666666666666666,\"#35b779\"],[0.7777777777777778,\"#6ece58\"],[0.8888888888888888,\"#b5de2b\"],[1.0,\"#fde725\"]]},\"legend\":{\"tracegroupgap\":0},\"title\":{\"text\":\"Average Medicare Payment Amounts by State\"}},                        {\"responsive\": true}                    ).then(function(){\n",
       "                            \n",
       "var gd = document.getElementById('ead462db-794e-4a81-9486-45804670f8c4');\n",
       "var x = new MutationObserver(function (mutations, observer) {{\n",
       "        var display = window.getComputedStyle(gd).display;\n",
       "        if (!display || display === 'none') {{\n",
       "            console.log([gd, 'removed!']);\n",
       "            Plotly.purge(gd);\n",
       "            observer.disconnect();\n",
       "        }}\n",
       "}});\n",
       "\n",
       "// Listen for the removal of the full notebook cells\n",
       "var notebookContainer = gd.closest('#notebook-container');\n",
       "if (notebookContainer) {{\n",
       "    x.observe(notebookContainer, {childList: true});\n",
       "}}\n",
       "\n",
       "// Listen for the clearing of the current output cell\n",
       "var outputEl = gd.closest('.output');\n",
       "if (outputEl) {{\n",
       "    x.observe(outputEl, {childList: true});\n",
       "}}\n",
       "\n",
       "                        })                };                });            </script>        </div>"
      ]
     },
     "metadata": {},
     "output_type": "display_data"
    }
   ],
   "source": [
    "# Choropleth map of average submitted covered charges\n",
    "fig1 = px.choropleth(\n",
    "    state_data,\n",
    "    locations='Rndrng_Prvdr_State_Abrvtn',\n",
    "    color='Avg_Submtd_Cvrd_Chrg',\n",
    "    locationmode='USA-states',\n",
    "    scope='usa',\n",
    "    title='Average Submitted Covered Charges by State',\n",
    "    color_continuous_scale='viridis'\n",
    ")\n",
    "\n",
    "fig1.show()\n",
    "\n",
    "# Create a choropleth map of average Medicare payment amounts\n",
    "fig2 = px.choropleth(\n",
    "    state_data,\n",
    "    locations='Rndrng_Prvdr_State_Abrvtn',\n",
    "    color='Avg_Mdcr_Pymt_Amt',\n",
    "    locationmode='USA-states',\n",
    "    scope='usa',\n",
    "    title='Average Medicare Payment Amounts by State',\n",
    "    color_continuous_scale='viridis'\n",
    ")\n",
    "\n",
    "fig2.show()\n"
   ]
  },
  {
   "cell_type": "code",
   "execution_count": null,
   "id": "f386f828-41b7-4107-b92e-6af690dfcb58",
   "metadata": {},
   "outputs": [],
   "source": []
  }
 ],
 "metadata": {
  "kernelspec": {
   "display_name": "Python 3 (ipykernel)",
   "language": "python",
   "name": "python3"
  },
  "language_info": {
   "codemirror_mode": {
    "name": "ipython",
    "version": 3
   },
   "file_extension": ".py",
   "mimetype": "text/x-python",
   "name": "python",
   "nbconvert_exporter": "python",
   "pygments_lexer": "ipython3",
   "version": "3.9.12"
  }
 },
 "nbformat": 4,
 "nbformat_minor": 5
}
